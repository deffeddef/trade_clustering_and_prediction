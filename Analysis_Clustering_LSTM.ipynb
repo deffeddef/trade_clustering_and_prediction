{
 "cells": [
  {
   "cell_type": "markdown",
   "metadata": {},
   "source": [
    "# Library Import"
   ]
  },
  {
   "cell_type": "code",
   "execution_count": 36,
   "metadata": {},
   "outputs": [],
   "source": [
    "import pandas as pd\n",
    "import numpy as np\n",
    "from sklearn.ensemble import IsolationForest\n",
    "import seaborn as sns\n",
    "from sklearn.preprocessing import StandardScaler, MinMaxScaler\n",
    "import umap\n",
    "import matplotlib.pyplot as plt\n",
    "import hdbscan\n",
    "import torch\n",
    "import torch.nn as nn\n",
    "import seaborn as sns"
   ]
  },
  {
   "cell_type": "code",
   "execution_count": 2,
   "metadata": {},
   "outputs": [],
   "source": [
    "df = pd.read_csv('trades_1.csv')"
   ]
  },
  {
   "cell_type": "markdown",
   "metadata": {},
   "source": [
    "# Data Validation and Analysis"
   ]
  },
  {
   "cell_type": "code",
   "execution_count": 3,
   "metadata": {},
   "outputs": [
    {
     "data": {
      "text/plain": [
       "88691"
      ]
     },
     "execution_count": 3,
     "metadata": {},
     "output_type": "execute_result"
    }
   ],
   "source": [
    "len(df)"
   ]
  },
  {
   "cell_type": "code",
   "execution_count": 4,
   "metadata": {},
   "outputs": [],
   "source": [
    "df = df.drop_duplicates()"
   ]
  },
  {
   "cell_type": "markdown",
   "metadata": {},
   "source": [
    "After removing duplicate rows, we see that the dataframe still has the same length, indicating that no duplicate rows existed."
   ]
  },
  {
   "cell_type": "code",
   "execution_count": 5,
   "metadata": {},
   "outputs": [
    {
     "data": {
      "text/plain": [
       "88691"
      ]
     },
     "execution_count": 5,
     "metadata": {},
     "output_type": "execute_result"
    }
   ],
   "source": [
    "len(df)"
   ]
  },
  {
   "cell_type": "markdown",
   "metadata": {},
   "source": [
    "Let's take a look at the data and the features we will work with. We see the id, which I assume is the id for the trade, while the portfolio id is an identificator for the user account so to speak. The rest of the data is alphanumeric data pertaining the transaction."
   ]
  },
  {
   "cell_type": "code",
   "execution_count": 6,
   "metadata": {},
   "outputs": [
    {
     "data": {
      "text/html": [
       "<div>\n",
       "<style scoped>\n",
       "    .dataframe tbody tr th:only-of-type {\n",
       "        vertical-align: middle;\n",
       "    }\n",
       "\n",
       "    .dataframe tbody tr th {\n",
       "        vertical-align: top;\n",
       "    }\n",
       "\n",
       "    .dataframe thead th {\n",
       "        text-align: right;\n",
       "    }\n",
       "</style>\n",
       "<table border=\"1\" class=\"dataframe\">\n",
       "  <thead>\n",
       "    <tr style=\"text-align: right;\">\n",
       "      <th></th>\n",
       "      <th>id</th>\n",
       "      <th>portfolio_id</th>\n",
       "      <th>instrument_id</th>\n",
       "      <th>executed_at</th>\n",
       "      <th>quantity</th>\n",
       "      <th>price</th>\n",
       "      <th>total</th>\n",
       "    </tr>\n",
       "  </thead>\n",
       "  <tbody>\n",
       "    <tr>\n",
       "      <th>0</th>\n",
       "      <td>4de3cec5-6527-4a6d-bc3e-e1037f4bbe58</td>\n",
       "      <td>170867ad-9865-466e-bdf8-5e3ea551344c</td>\n",
       "      <td>IE00B5BMR087</td>\n",
       "      <td>2018-07-30 05:09:57.383421</td>\n",
       "      <td>8.0</td>\n",
       "      <td>235.630</td>\n",
       "      <td>1885.04</td>\n",
       "    </tr>\n",
       "    <tr>\n",
       "      <th>1</th>\n",
       "      <td>a4171035-ebdf-43b3-b31e-d333594be91f</td>\n",
       "      <td>170867ad-9865-466e-bdf8-5e3ea551344c</td>\n",
       "      <td>DE0007164600</td>\n",
       "      <td>2018-07-30 05:32:06.551758</td>\n",
       "      <td>5.0</td>\n",
       "      <td>101.953</td>\n",
       "      <td>509.77</td>\n",
       "    </tr>\n",
       "    <tr>\n",
       "      <th>2</th>\n",
       "      <td>4d1148a7-e031-47e7-8841-8da3828212e1</td>\n",
       "      <td>38490408-1aa8-419e-b5ac-ca96c471a443</td>\n",
       "      <td>DE0006048432</td>\n",
       "      <td>2018-07-30 05:48:37.570582</td>\n",
       "      <td>10.0</td>\n",
       "      <td>107.586</td>\n",
       "      <td>1075.86</td>\n",
       "    </tr>\n",
       "    <tr>\n",
       "      <th>3</th>\n",
       "      <td>35a02e62-1f60-4ca4-a391-24985837fc50</td>\n",
       "      <td>38490408-1aa8-419e-b5ac-ca96c471a443</td>\n",
       "      <td>IE00B4L5Y983</td>\n",
       "      <td>2018-07-30 05:51:47.623352</td>\n",
       "      <td>50.0</td>\n",
       "      <td>48.506</td>\n",
       "      <td>2425.30</td>\n",
       "    </tr>\n",
       "    <tr>\n",
       "      <th>4</th>\n",
       "      <td>1427141a-f2d9-4e4a-8b51-bfb173314af0</td>\n",
       "      <td>7c1f6387-9b6d-43e2-aba3-38c548f9dfb6</td>\n",
       "      <td>DE000ZAL1111</td>\n",
       "      <td>2018-07-30 05:52:21.263454</td>\n",
       "      <td>20.0</td>\n",
       "      <td>49.816</td>\n",
       "      <td>996.32</td>\n",
       "    </tr>\n",
       "  </tbody>\n",
       "</table>\n",
       "</div>"
      ],
      "text/plain": [
       "                                     id                          portfolio_id  \\\n",
       "0  4de3cec5-6527-4a6d-bc3e-e1037f4bbe58  170867ad-9865-466e-bdf8-5e3ea551344c   \n",
       "1  a4171035-ebdf-43b3-b31e-d333594be91f  170867ad-9865-466e-bdf8-5e3ea551344c   \n",
       "2  4d1148a7-e031-47e7-8841-8da3828212e1  38490408-1aa8-419e-b5ac-ca96c471a443   \n",
       "3  35a02e62-1f60-4ca4-a391-24985837fc50  38490408-1aa8-419e-b5ac-ca96c471a443   \n",
       "4  1427141a-f2d9-4e4a-8b51-bfb173314af0  7c1f6387-9b6d-43e2-aba3-38c548f9dfb6   \n",
       "\n",
       "  instrument_id                 executed_at  quantity    price    total  \n",
       "0  IE00B5BMR087  2018-07-30 05:09:57.383421       8.0  235.630  1885.04  \n",
       "1  DE0007164600  2018-07-30 05:32:06.551758       5.0  101.953   509.77  \n",
       "2  DE0006048432  2018-07-30 05:48:37.570582      10.0  107.586  1075.86  \n",
       "3  IE00B4L5Y983  2018-07-30 05:51:47.623352      50.0   48.506  2425.30  \n",
       "4  DE000ZAL1111  2018-07-30 05:52:21.263454      20.0   49.816   996.32  "
      ]
     },
     "execution_count": 6,
     "metadata": {},
     "output_type": "execute_result"
    }
   ],
   "source": [
    "df.head()"
   ]
  },
  {
   "cell_type": "markdown",
   "metadata": {},
   "source": [
    "Pandas describe function makes it possible to look at standard statistical properties of numeric features, so let's do that:\n",
    "\n",
    "For the quantity feature, I notice 2 things. First the minimum value is at minus 284, which logically should not be possible. Second, the maximum value is at 1 million, which might be possible but seems highly improbable. \n",
    "\n",
    "As far as the price and the total are concerned, the minimum here is at 0. Now, I lack the domain knowledge to certainly say that this is impossible, but common sense tells me that you cannot buy a stock or financial instruments can be bought at a price of 0.\n",
    "\n",
    "So, let's keep these things in mind."
   ]
  },
  {
   "cell_type": "code",
   "execution_count": 7,
   "metadata": {},
   "outputs": [
    {
     "data": {
      "text/html": [
       "<div>\n",
       "<style scoped>\n",
       "    .dataframe tbody tr th:only-of-type {\n",
       "        vertical-align: middle;\n",
       "    }\n",
       "\n",
       "    .dataframe tbody tr th {\n",
       "        vertical-align: top;\n",
       "    }\n",
       "\n",
       "    .dataframe thead th {\n",
       "        text-align: right;\n",
       "    }\n",
       "</style>\n",
       "<table border=\"1\" class=\"dataframe\">\n",
       "  <thead>\n",
       "    <tr style=\"text-align: right;\">\n",
       "      <th></th>\n",
       "      <th>quantity</th>\n",
       "      <th>price</th>\n",
       "      <th>total</th>\n",
       "    </tr>\n",
       "  </thead>\n",
       "  <tbody>\n",
       "    <tr>\n",
       "      <th>count</th>\n",
       "      <td>88691.000000</td>\n",
       "      <td>88691.000000</td>\n",
       "      <td>88691.000000</td>\n",
       "    </tr>\n",
       "    <tr>\n",
       "      <th>mean</th>\n",
       "      <td>571.653896</td>\n",
       "      <td>170.493957</td>\n",
       "      <td>2165.574307</td>\n",
       "    </tr>\n",
       "    <tr>\n",
       "      <th>std</th>\n",
       "      <td>8770.273739</td>\n",
       "      <td>333.542551</td>\n",
       "      <td>1856.706524</td>\n",
       "    </tr>\n",
       "    <tr>\n",
       "      <th>min</th>\n",
       "      <td>-284.000000</td>\n",
       "      <td>0.000000</td>\n",
       "      <td>0.000000</td>\n",
       "    </tr>\n",
       "    <tr>\n",
       "      <th>25%</th>\n",
       "      <td>6.000000</td>\n",
       "      <td>21.249000</td>\n",
       "      <td>613.070000</td>\n",
       "    </tr>\n",
       "    <tr>\n",
       "      <th>50%</th>\n",
       "      <td>20.000000</td>\n",
       "      <td>70.920000</td>\n",
       "      <td>1659.180000</td>\n",
       "    </tr>\n",
       "    <tr>\n",
       "      <th>75%</th>\n",
       "      <td>73.000000</td>\n",
       "      <td>178.776000</td>\n",
       "      <td>3642.260000</td>\n",
       "    </tr>\n",
       "    <tr>\n",
       "      <th>max</th>\n",
       "      <td>1000000.000000</td>\n",
       "      <td>5549.330000</td>\n",
       "      <td>26138.490000</td>\n",
       "    </tr>\n",
       "  </tbody>\n",
       "</table>\n",
       "</div>"
      ],
      "text/plain": [
       "             quantity         price         total\n",
       "count    88691.000000  88691.000000  88691.000000\n",
       "mean       571.653896    170.493957   2165.574307\n",
       "std       8770.273739    333.542551   1856.706524\n",
       "min       -284.000000      0.000000      0.000000\n",
       "25%          6.000000     21.249000    613.070000\n",
       "50%         20.000000     70.920000   1659.180000\n",
       "75%         73.000000    178.776000   3642.260000\n",
       "max    1000000.000000   5549.330000  26138.490000"
      ]
     },
     "execution_count": 7,
     "metadata": {},
     "output_type": "execute_result"
    }
   ],
   "source": [
    "df.describe()"
   ]
  },
  {
   "cell_type": "markdown",
   "metadata": {},
   "source": [
    "Next, we check for missing values and see that there none."
   ]
  },
  {
   "cell_type": "code",
   "execution_count": 8,
   "metadata": {},
   "outputs": [
    {
     "data": {
      "text/plain": [
       "id               0\n",
       "portfolio_id     0\n",
       "instrument_id    0\n",
       "executed_at      0\n",
       "quantity         0\n",
       "price            0\n",
       "total            0\n",
       "dtype: int64"
      ]
     },
     "execution_count": 8,
     "metadata": {},
     "output_type": "execute_result"
    }
   ],
   "source": [
    "df.isna().sum()"
   ]
  },
  {
   "cell_type": "code",
   "execution_count": 9,
   "metadata": {},
   "outputs": [],
   "source": [
    "def isolation_outlier(df, cont, cols=None):\n",
    "    print('dataset with outliers:', len(df))\n",
    "    isof = IsolationForest(max_samples=1000, contamination=cont/100)\n",
    "    if cols == None:\n",
    "        isof.fit(df.select_dtypes(include=np.number))\n",
    "        listpred = isof.predict(df.select_dtypes(include=np.number))\n",
    "    else:\n",
    "        isof.fit(df[cols])\n",
    "        listpred = isof.predict(df[cols])\n",
    "    df['outlier'] = listpred\n",
    "    df = df.loc[df['outlier'] == 1]\n",
    "    df.drop('outlier', axis=1, inplace=True)\n",
    "    print('dataset without outliers:', len(df))\n",
    "    return df"
   ]
  },
  {
   "cell_type": "markdown",
   "metadata": {},
   "source": [
    "Next, we deal with outliers. \n",
    "\n",
    "Outliers are a tricky topic, because oftentimes a statistical outlier might not be an outlier from a business perspective and vice versa. Outliers can often be valid, uncorrupted data, which simply represents an edge case for a business. Still, outliers can have a negative impact on a model performance, so I have chosen to remove a conservative amount using an algorithmic approach as my domain and business knowledge is limited. A huge advantage of the isolation forest algorithm is that it can tackle outliers in a multivariate fashion, which comes in very handy for bigger dimension datasets.\n",
    "\n",
    "Please note that Isolation Forest is unsupervised, so applying it on the whole data set will not result in data leakage!\n",
    "\n",
    "We aim to remove around 5% of the data. The 5% threshold is a heuristic measure, which for the purpose of this showcase should be a good measure."
   ]
  },
  {
   "cell_type": "code",
   "execution_count": 10,
   "metadata": {},
   "outputs": [
    {
     "name": "stdout",
     "output_type": "stream",
     "text": [
      "dataset with outliers: 88691\n",
      "dataset without outliers: 84258\n"
     ]
    },
    {
     "name": "stderr",
     "output_type": "stream",
     "text": [
      "/opt/anaconda3/lib/python3.7/site-packages/pandas/core/frame.py:3997: SettingWithCopyWarning: \n",
      "A value is trying to be set on a copy of a slice from a DataFrame\n",
      "\n",
      "See the caveats in the documentation: https://pandas.pydata.org/pandas-docs/stable/user_guide/indexing.html#returning-a-view-versus-a-copy\n",
      "  errors=errors,\n"
     ]
    }
   ],
   "source": [
    "df_out = isolation_outlier(df, 5)"
   ]
  },
  {
   "cell_type": "markdown",
   "metadata": {},
   "source": [
    "We then check, how our outlier detection has affected the data:\n",
    "    \n",
    "While the maximum values for the features have been curtailed successfully to reasonable numbers, the minimum values remain unchanged. This indicates that only a small number of rows are affected and can easily be removed manually without losing a significant amount of data.\n",
    "\n",
    "Another big change is the mean of the quantity feature, which went from 572 to 183. Changes were also noted on the price, going from 170 to 118 and the total, which decreased from 2166 to 2078."
   ]
  },
  {
   "cell_type": "code",
   "execution_count": 11,
   "metadata": {},
   "outputs": [
    {
     "data": {
      "text/html": [
       "<div>\n",
       "<style scoped>\n",
       "    .dataframe tbody tr th:only-of-type {\n",
       "        vertical-align: middle;\n",
       "    }\n",
       "\n",
       "    .dataframe tbody tr th {\n",
       "        vertical-align: top;\n",
       "    }\n",
       "\n",
       "    .dataframe thead th {\n",
       "        text-align: right;\n",
       "    }\n",
       "</style>\n",
       "<table border=\"1\" class=\"dataframe\">\n",
       "  <thead>\n",
       "    <tr style=\"text-align: right;\">\n",
       "      <th></th>\n",
       "      <th>quantity</th>\n",
       "      <th>price</th>\n",
       "      <th>total</th>\n",
       "    </tr>\n",
       "  </thead>\n",
       "  <tbody>\n",
       "    <tr>\n",
       "      <th>count</th>\n",
       "      <td>84258.000000</td>\n",
       "      <td>84258.000000</td>\n",
       "      <td>84258.000000</td>\n",
       "    </tr>\n",
       "    <tr>\n",
       "      <th>mean</th>\n",
       "      <td>157.877646</td>\n",
       "      <td>122.541128</td>\n",
       "      <td>2077.742172</td>\n",
       "    </tr>\n",
       "    <tr>\n",
       "      <th>std</th>\n",
       "      <td>550.109573</td>\n",
       "      <td>211.419150</td>\n",
       "      <td>1677.242572</td>\n",
       "    </tr>\n",
       "    <tr>\n",
       "      <th>min</th>\n",
       "      <td>-284.000000</td>\n",
       "      <td>0.000000</td>\n",
       "      <td>0.000000</td>\n",
       "    </tr>\n",
       "    <tr>\n",
       "      <th>25%</th>\n",
       "      <td>8.000000</td>\n",
       "      <td>21.090000</td>\n",
       "      <td>578.917500</td>\n",
       "    </tr>\n",
       "    <tr>\n",
       "      <th>50%</th>\n",
       "      <td>20.000000</td>\n",
       "      <td>67.892000</td>\n",
       "      <td>1583.370000</td>\n",
       "    </tr>\n",
       "    <tr>\n",
       "      <th>75%</th>\n",
       "      <td>73.000000</td>\n",
       "      <td>162.879000</td>\n",
       "      <td>3518.537500</td>\n",
       "    </tr>\n",
       "    <tr>\n",
       "      <th>max</th>\n",
       "      <td>10000.000000</td>\n",
       "      <td>1733.131000</td>\n",
       "      <td>7784.000000</td>\n",
       "    </tr>\n",
       "  </tbody>\n",
       "</table>\n",
       "</div>"
      ],
      "text/plain": [
       "           quantity         price         total\n",
       "count  84258.000000  84258.000000  84258.000000\n",
       "mean     157.877646    122.541128   2077.742172\n",
       "std      550.109573    211.419150   1677.242572\n",
       "min     -284.000000      0.000000      0.000000\n",
       "25%        8.000000     21.090000    578.917500\n",
       "50%       20.000000     67.892000   1583.370000\n",
       "75%       73.000000    162.879000   3518.537500\n",
       "max    10000.000000   1733.131000   7784.000000"
      ]
     },
     "execution_count": 11,
     "metadata": {},
     "output_type": "execute_result"
    }
   ],
   "source": [
    "df_out.describe()"
   ]
  },
  {
   "cell_type": "markdown",
   "metadata": {},
   "source": [
    "Checking on correlations between the features, it becomes clear, that there are only very weak correlations, which do not exceed 0.15."
   ]
  },
  {
   "cell_type": "code",
   "execution_count": 12,
   "metadata": {},
   "outputs": [
    {
     "data": {
      "text/html": [
       "<div>\n",
       "<style scoped>\n",
       "    .dataframe tbody tr th:only-of-type {\n",
       "        vertical-align: middle;\n",
       "    }\n",
       "\n",
       "    .dataframe tbody tr th {\n",
       "        vertical-align: top;\n",
       "    }\n",
       "\n",
       "    .dataframe thead th {\n",
       "        text-align: right;\n",
       "    }\n",
       "</style>\n",
       "<table border=\"1\" class=\"dataframe\">\n",
       "  <thead>\n",
       "    <tr style=\"text-align: right;\">\n",
       "      <th></th>\n",
       "      <th>quantity</th>\n",
       "      <th>price</th>\n",
       "      <th>total</th>\n",
       "    </tr>\n",
       "  </thead>\n",
       "  <tbody>\n",
       "    <tr>\n",
       "      <th>quantity</th>\n",
       "      <td>1.000000</td>\n",
       "      <td>-0.148483</td>\n",
       "      <td>0.192618</td>\n",
       "    </tr>\n",
       "    <tr>\n",
       "      <th>price</th>\n",
       "      <td>-0.148483</td>\n",
       "      <td>1.000000</td>\n",
       "      <td>0.152978</td>\n",
       "    </tr>\n",
       "    <tr>\n",
       "      <th>total</th>\n",
       "      <td>0.192618</td>\n",
       "      <td>0.152978</td>\n",
       "      <td>1.000000</td>\n",
       "    </tr>\n",
       "  </tbody>\n",
       "</table>\n",
       "</div>"
      ],
      "text/plain": [
       "          quantity     price     total\n",
       "quantity  1.000000 -0.148483  0.192618\n",
       "price    -0.148483  1.000000  0.152978\n",
       "total     0.192618  0.152978  1.000000"
      ]
     },
     "execution_count": 12,
     "metadata": {},
     "output_type": "execute_result"
    }
   ],
   "source": [
    "df_out.corr()"
   ]
  },
  {
   "cell_type": "markdown",
   "metadata": {},
   "source": [
    "Let's visualize the distribution of our features. For the quantity of stock, we see that a massive majority of trades are located in the corridor of 0 and 100 stocks and that only few trades involved a higher quantity. The quantity of 10 is by far the most frequent value at 10.000 trades."
   ]
  },
  {
   "cell_type": "code",
   "execution_count": 13,
   "metadata": {},
   "outputs": [
    {
     "data": {
      "text/plain": [
       "<matplotlib.axes._subplots.AxesSubplot at 0x7ff7b73eb150>"
      ]
     },
     "execution_count": 13,
     "metadata": {},
     "output_type": "execute_result"
    },
    {
     "data": {
      "image/png": "[encoded data removed]",
      "text/plain": [
       "<Figure size 432x288 with 1 Axes>"
      ]
     },
     "metadata": {},
     "output_type": "display_data"
    }
   ],
   "source": [
    "sns.set_style('whitegrid') \n",
    "sns.distplot(df_out['quantity'], kde = False, color ='red', bins = 100) "
   ]
  },
  {
   "cell_type": "code",
   "execution_count": 14,
   "metadata": {},
   "outputs": [
    {
     "data": {
      "text/plain": [
       "10.0      10054\n",
       "5.0        6146\n",
       "20.0       6000\n",
       "100.0      4625\n",
       "50.0       4464\n",
       "          ...  \n",
       "645.0         1\n",
       "1915.0        1\n",
       "2650.0        1\n",
       "612.0         1\n",
       "1697.0        1\n",
       "Name: quantity, Length: 1252, dtype: int64"
      ]
     },
     "execution_count": 14,
     "metadata": {},
     "output_type": "execute_result"
    }
   ],
   "source": [
    "df_out['quantity'].value_counts()"
   ]
  },
  {
   "cell_type": "markdown",
   "metadata": {},
   "source": [
    "Regarding the price. A quarter of trades involve low price stock and generally speaking the vast majority of trades involved stock at prices lower than 250 euro, indicating a clear user preference on lower priced stock. This should be further examined. "
   ]
  },
  {
   "cell_type": "code",
   "execution_count": 15,
   "metadata": {},
   "outputs": [
    {
     "data": {
      "text/plain": [
       "<matplotlib.axes._subplots.AxesSubplot at 0x7ff79c2c0d50>"
      ]
     },
     "execution_count": 15,
     "metadata": {},
     "output_type": "execute_result"
    },
    {
     "data": {
      "image/png": "[encoded data removed]",
      "text/plain": [
       "<Figure size 432x288 with 1 Axes>"
      ]
     },
     "metadata": {},
     "output_type": "display_data"
    }
   ],
   "source": [
    "sns.set_style('whitegrid') \n",
    "sns.distplot(df_out['price'], kde = False, color ='red', bins = 70) "
   ]
  },
  {
   "cell_type": "markdown",
   "metadata": {},
   "source": [
    "Looking at at the total, we see more balanced picture with total amount spent per trade. The distribution curve is concave, indicating similar actvity between 1 and 5000 euro."
   ]
  },
  {
   "cell_type": "code",
   "execution_count": 16,
   "metadata": {},
   "outputs": [
    {
     "data": {
      "text/plain": [
       "<matplotlib.axes._subplots.AxesSubplot at 0x7ff79cf5f090>"
      ]
     },
     "execution_count": 16,
     "metadata": {},
     "output_type": "execute_result"
    },
    {
     "data": {
      "image/png": "[encoded data removed]",
      "text/plain": [
       "<Figure size 432x288 with 1 Axes>"
      ]
     },
     "metadata": {},
     "output_type": "display_data"
    }
   ],
   "source": [
    "sns.set_style('whitegrid') \n",
    "sns.distplot(df_out['total'], kde = False, color ='red', bins = 30) "
   ]
  },
  {
   "cell_type": "markdown",
   "metadata": {},
   "source": [
    "Returning to the issue we ran into with the negative value for stock quantity. We see that the number of rows affected is only two. So we simply discard them as this has no impact on further steps."
   ]
  },
  {
   "cell_type": "markdown",
   "metadata": {},
   "source": [
    "# Time Series Analysis - Total Volume, Quantity, Price"
   ]
  },
  {
   "cell_type": "code",
   "execution_count": 17,
   "metadata": {},
   "outputs": [
    {
     "name": "stderr",
     "output_type": "stream",
     "text": [
      "/opt/anaconda3/lib/python3.7/site-packages/ipykernel_launcher.py:1: SettingWithCopyWarning: \n",
      "A value is trying to be set on a copy of a slice from a DataFrame.\n",
      "Try using .loc[row_indexer,col_indexer] = value instead\n",
      "\n",
      "See the caveats in the documentation: https://pandas.pydata.org/pandas-docs/stable/user_guide/indexing.html#returning-a-view-versus-a-copy\n",
      "  \"\"\"Entry point for launching an IPython kernel.\n"
     ]
    }
   ],
   "source": [
    "df_out['executed_at_date'] = pd.to_datetime(df_out['executed_at']).dt.date"
   ]
  },
  {
   "cell_type": "code",
   "execution_count": 21,
   "metadata": {},
   "outputs": [],
   "source": [
    "grp_total = df_out[['executed_at_date', 'total']].groupby(['executed_at_date']).mean()\n",
    "grp_total['total'] = grp_total['total'].astype(int)"
   ]
  },
  {
   "cell_type": "code",
   "execution_count": 24,
   "metadata": {},
   "outputs": [
    {
     "data": {
      "text/plain": [
       "[<matplotlib.lines.Line2D at 0x7ff79f2d6310>]"
      ]
     },
     "execution_count": 24,
     "metadata": {},
     "output_type": "execute_result"
    },
    {
     "data": {
      "image/png": "[encoded data removed]",
      "text/plain": [
       "<Figure size 1080x720 with 1 Axes>"
      ]
     },
     "metadata": {},
     "output_type": "display_data"
    }
   ],
   "source": [
    "plt.figure(figsize=(15,10))\n",
    "plt.title('Day vs Average volume')\n",
    "plt.ylabel('Average Volume')\n",
    "plt.xlabel('Day')\n",
    "plt.grid(True)\n",
    "plt.autoscale(axis='x',tight=True)\n",
    "plt.plot(grp_total['total'])"
   ]
  },
  {
   "cell_type": "code",
   "execution_count": 25,
   "metadata": {},
   "outputs": [],
   "source": [
    "grp_quantity = df_out[['executed_at_date', 'quantity']].groupby(['executed_at_date']).mean()\n",
    "grp_quantity['total'] = grp_quantity['quantity'].astype(int)"
   ]
  },
  {
   "cell_type": "code",
   "execution_count": 27,
   "metadata": {},
   "outputs": [
    {
     "data": {
      "text/plain": [
       "[<matplotlib.lines.Line2D at 0x7ff7b6d9e9d0>]"
      ]
     },
     "execution_count": 27,
     "metadata": {},
     "output_type": "execute_result"
    },
    {
     "data": {
      "image/png": "[encoded data removed]",
      "text/plain": [
       "<Figure size 1080x720 with 1 Axes>"
      ]
     },
     "metadata": {},
     "output_type": "display_data"
    }
   ],
   "source": [
    "plt.figure(figsize=(15,10))\n",
    "plt.title('Day vs Average Quantity')\n",
    "plt.ylabel('Average Volume')\n",
    "plt.xlabel('Day')\n",
    "plt.grid(True)\n",
    "plt.autoscale(axis='x',tight=True)\n",
    "plt.plot(grp_quantity['quantity'])"
   ]
  },
  {
   "cell_type": "code",
   "execution_count": 28,
   "metadata": {},
   "outputs": [],
   "source": [
    "grp_price = df_out[['executed_at_date', 'price']].groupby(['executed_at_date']).mean()\n",
    "grp_price['total'] = grp_price['price'].astype(int)"
   ]
  },
  {
   "cell_type": "code",
   "execution_count": 29,
   "metadata": {},
   "outputs": [
    {
     "data": {
      "text/plain": [
       "[<matplotlib.lines.Line2D at 0x7ff79f0b4c10>]"
      ]
     },
     "execution_count": 29,
     "metadata": {},
     "output_type": "execute_result"
    },
    {
     "data": {
      "image/png": "[encoded data removed]",
      "text/plain": [
       "<Figure size 1080x720 with 1 Axes>"
      ]
     },
     "metadata": {},
     "output_type": "display_data"
    }
   ],
   "source": [
    "plt.figure(figsize=(15,10))\n",
    "plt.title('Day vs Average price')\n",
    "plt.ylabel('Average Stock Price')\n",
    "plt.xlabel('Day')\n",
    "plt.grid(True)\n",
    "plt.autoscale(axis='x',tight=True)\n",
    "plt.plot(grp_price['price'])"
   ]
  },
  {
   "cell_type": "code",
   "execution_count": null,
   "metadata": {},
   "outputs": [],
   "source": [
    "df_out['executed_at_date']"
   ]
  },
  {
   "cell_type": "code",
   "execution_count": 39,
   "metadata": {},
   "outputs": [],
   "source": [
    "df_284 = df_out[df_out['quantity'] < 0]"
   ]
  },
  {
   "cell_type": "code",
   "execution_count": 40,
   "metadata": {},
   "outputs": [
    {
     "data": {
      "text/html": [
       "<div>\n",
       "<style scoped>\n",
       "    .dataframe tbody tr th:only-of-type {\n",
       "        vertical-align: middle;\n",
       "    }\n",
       "\n",
       "    .dataframe tbody tr th {\n",
       "        vertical-align: top;\n",
       "    }\n",
       "\n",
       "    .dataframe thead th {\n",
       "        text-align: right;\n",
       "    }\n",
       "</style>\n",
       "<table border=\"1\" class=\"dataframe\">\n",
       "  <thead>\n",
       "    <tr style=\"text-align: right;\">\n",
       "      <th></th>\n",
       "      <th>quantity</th>\n",
       "      <th>price</th>\n",
       "      <th>total</th>\n",
       "    </tr>\n",
       "  </thead>\n",
       "  <tbody>\n",
       "    <tr>\n",
       "      <th>count</th>\n",
       "      <td>2.00000</td>\n",
       "      <td>2.000000</td>\n",
       "      <td>2.000000</td>\n",
       "    </tr>\n",
       "    <tr>\n",
       "      <th>mean</th>\n",
       "      <td>-152.00000</td>\n",
       "      <td>29.185500</td>\n",
       "      <td>2903.215000</td>\n",
       "    </tr>\n",
       "    <tr>\n",
       "      <th>std</th>\n",
       "      <td>186.67619</td>\n",
       "      <td>16.423969</td>\n",
       "      <td>2951.796045</td>\n",
       "    </tr>\n",
       "    <tr>\n",
       "      <th>min</th>\n",
       "      <td>-284.00000</td>\n",
       "      <td>17.572000</td>\n",
       "      <td>815.980000</td>\n",
       "    </tr>\n",
       "    <tr>\n",
       "      <th>25%</th>\n",
       "      <td>-218.00000</td>\n",
       "      <td>23.378750</td>\n",
       "      <td>1859.597500</td>\n",
       "    </tr>\n",
       "    <tr>\n",
       "      <th>50%</th>\n",
       "      <td>-152.00000</td>\n",
       "      <td>29.185500</td>\n",
       "      <td>2903.215000</td>\n",
       "    </tr>\n",
       "    <tr>\n",
       "      <th>75%</th>\n",
       "      <td>-86.00000</td>\n",
       "      <td>34.992250</td>\n",
       "      <td>3946.832500</td>\n",
       "    </tr>\n",
       "    <tr>\n",
       "      <th>max</th>\n",
       "      <td>-20.00000</td>\n",
       "      <td>40.799000</td>\n",
       "      <td>4990.450000</td>\n",
       "    </tr>\n",
       "  </tbody>\n",
       "</table>\n",
       "</div>"
      ],
      "text/plain": [
       "        quantity      price        total\n",
       "count    2.00000   2.000000     2.000000\n",
       "mean  -152.00000  29.185500  2903.215000\n",
       "std    186.67619  16.423969  2951.796045\n",
       "min   -284.00000  17.572000   815.980000\n",
       "25%   -218.00000  23.378750  1859.597500\n",
       "50%   -152.00000  29.185500  2903.215000\n",
       "75%    -86.00000  34.992250  3946.832500\n",
       "max    -20.00000  40.799000  4990.450000"
      ]
     },
     "execution_count": 40,
     "metadata": {},
     "output_type": "execute_result"
    }
   ],
   "source": [
    "df_284.describe()"
   ]
  },
  {
   "cell_type": "code",
   "execution_count": 41,
   "metadata": {},
   "outputs": [],
   "source": [
    "df_out = df_out[df_out['quantity'] > 0]\n",
    "df_out = df_out[df_out['price'] > 0]\n",
    "df_out = df_out[df_out['total'] > 0]"
   ]
  },
  {
   "cell_type": "code",
   "execution_count": 42,
   "metadata": {},
   "outputs": [
    {
     "data": {
      "text/plain": [
       "84258"
      ]
     },
     "execution_count": 42,
     "metadata": {},
     "output_type": "execute_result"
    }
   ],
   "source": [
    "len(df_out)"
   ]
  },
  {
   "cell_type": "markdown",
   "metadata": {},
   "source": [
    "# Feature Engineering"
   ]
  },
  {
   "cell_type": "code",
   "execution_count": 43,
   "metadata": {},
   "outputs": [],
   "source": [
    "def time_decon(df, col):\n",
    "    if df[col].dtype != 'datetime64[ns]':\n",
    "        df[col] = pd.to_datetime(df[col])\n",
    "    df[col+'_day'] = df[col].dt.day\n",
    "    df[col+'_day_name'] = df[col].dt.day_name()\n",
    "    df[col+'_month'] = df[col].dt.month\n",
    "    df[col+'_year'] = df[col].dt.year\n",
    "    return df"
   ]
  },
  {
   "cell_type": "markdown",
   "metadata": {},
   "source": [
    "We should also engineer some features, namely from execution timestamp as well as the instrument id. First, we deconstruct the timestamp into its constituent parts - day name, month, day of month."
   ]
  },
  {
   "cell_type": "code",
   "execution_count": 44,
   "metadata": {},
   "outputs": [],
   "source": [
    "df_time = time_decon(df_out, 'executed_at')"
   ]
  },
  {
   "cell_type": "code",
   "execution_count": 45,
   "metadata": {},
   "outputs": [
    {
     "data": {
      "text/html": [
       "<div>\n",
       "<style scoped>\n",
       "    .dataframe tbody tr th:only-of-type {\n",
       "        vertical-align: middle;\n",
       "    }\n",
       "\n",
       "    .dataframe tbody tr th {\n",
       "        vertical-align: top;\n",
       "    }\n",
       "\n",
       "    .dataframe thead th {\n",
       "        text-align: right;\n",
       "    }\n",
       "</style>\n",
       "<table border=\"1\" class=\"dataframe\">\n",
       "  <thead>\n",
       "    <tr style=\"text-align: right;\">\n",
       "      <th></th>\n",
       "      <th>id</th>\n",
       "      <th>portfolio_id</th>\n",
       "      <th>instrument_id</th>\n",
       "      <th>executed_at</th>\n",
       "      <th>quantity</th>\n",
       "      <th>price</th>\n",
       "      <th>total</th>\n",
       "      <th>executed_at_day</th>\n",
       "      <th>executed_at_day_name</th>\n",
       "      <th>executed_at_month</th>\n",
       "      <th>executed_at_year</th>\n",
       "    </tr>\n",
       "  </thead>\n",
       "  <tbody>\n",
       "    <tr>\n",
       "      <th>0</th>\n",
       "      <td>4de3cec5-6527-4a6d-bc3e-e1037f4bbe58</td>\n",
       "      <td>170867ad-9865-466e-bdf8-5e3ea551344c</td>\n",
       "      <td>IE00B5BMR087</td>\n",
       "      <td>2018-07-30 05:09:57.383421</td>\n",
       "      <td>8.0</td>\n",
       "      <td>235.630</td>\n",
       "      <td>1885.04</td>\n",
       "      <td>30</td>\n",
       "      <td>Monday</td>\n",
       "      <td>7</td>\n",
       "      <td>2018</td>\n",
       "    </tr>\n",
       "    <tr>\n",
       "      <th>1</th>\n",
       "      <td>a4171035-ebdf-43b3-b31e-d333594be91f</td>\n",
       "      <td>170867ad-9865-466e-bdf8-5e3ea551344c</td>\n",
       "      <td>DE0007164600</td>\n",
       "      <td>2018-07-30 05:32:06.551758</td>\n",
       "      <td>5.0</td>\n",
       "      <td>101.953</td>\n",
       "      <td>509.77</td>\n",
       "      <td>30</td>\n",
       "      <td>Monday</td>\n",
       "      <td>7</td>\n",
       "      <td>2018</td>\n",
       "    </tr>\n",
       "    <tr>\n",
       "      <th>2</th>\n",
       "      <td>4d1148a7-e031-47e7-8841-8da3828212e1</td>\n",
       "      <td>38490408-1aa8-419e-b5ac-ca96c471a443</td>\n",
       "      <td>DE0006048432</td>\n",
       "      <td>2018-07-30 05:48:37.570582</td>\n",
       "      <td>10.0</td>\n",
       "      <td>107.586</td>\n",
       "      <td>1075.86</td>\n",
       "      <td>30</td>\n",
       "      <td>Monday</td>\n",
       "      <td>7</td>\n",
       "      <td>2018</td>\n",
       "    </tr>\n",
       "    <tr>\n",
       "      <th>3</th>\n",
       "      <td>35a02e62-1f60-4ca4-a391-24985837fc50</td>\n",
       "      <td>38490408-1aa8-419e-b5ac-ca96c471a443</td>\n",
       "      <td>IE00B4L5Y983</td>\n",
       "      <td>2018-07-30 05:51:47.623352</td>\n",
       "      <td>50.0</td>\n",
       "      <td>48.506</td>\n",
       "      <td>2425.30</td>\n",
       "      <td>30</td>\n",
       "      <td>Monday</td>\n",
       "      <td>7</td>\n",
       "      <td>2018</td>\n",
       "    </tr>\n",
       "    <tr>\n",
       "      <th>4</th>\n",
       "      <td>1427141a-f2d9-4e4a-8b51-bfb173314af0</td>\n",
       "      <td>7c1f6387-9b6d-43e2-aba3-38c548f9dfb6</td>\n",
       "      <td>DE000ZAL1111</td>\n",
       "      <td>2018-07-30 05:52:21.263454</td>\n",
       "      <td>20.0</td>\n",
       "      <td>49.816</td>\n",
       "      <td>996.32</td>\n",
       "      <td>30</td>\n",
       "      <td>Monday</td>\n",
       "      <td>7</td>\n",
       "      <td>2018</td>\n",
       "    </tr>\n",
       "  </tbody>\n",
       "</table>\n",
       "</div>"
      ],
      "text/plain": [
       "                                     id                          portfolio_id  \\\n",
       "0  4de3cec5-6527-4a6d-bc3e-e1037f4bbe58  170867ad-9865-466e-bdf8-5e3ea551344c   \n",
       "1  a4171035-ebdf-43b3-b31e-d333594be91f  170867ad-9865-466e-bdf8-5e3ea551344c   \n",
       "2  4d1148a7-e031-47e7-8841-8da3828212e1  38490408-1aa8-419e-b5ac-ca96c471a443   \n",
       "3  35a02e62-1f60-4ca4-a391-24985837fc50  38490408-1aa8-419e-b5ac-ca96c471a443   \n",
       "4  1427141a-f2d9-4e4a-8b51-bfb173314af0  7c1f6387-9b6d-43e2-aba3-38c548f9dfb6   \n",
       "\n",
       "  instrument_id                executed_at  quantity    price    total  \\\n",
       "0  IE00B5BMR087 2018-07-30 05:09:57.383421       8.0  235.630  1885.04   \n",
       "1  DE0007164600 2018-07-30 05:32:06.551758       5.0  101.953   509.77   \n",
       "2  DE0006048432 2018-07-30 05:48:37.570582      10.0  107.586  1075.86   \n",
       "3  IE00B4L5Y983 2018-07-30 05:51:47.623352      50.0   48.506  2425.30   \n",
       "4  DE000ZAL1111 2018-07-30 05:52:21.263454      20.0   49.816   996.32   \n",
       "\n",
       "   executed_at_day executed_at_day_name  executed_at_month  executed_at_year  \n",
       "0               30               Monday                  7              2018  \n",
       "1               30               Monday                  7              2018  \n",
       "2               30               Monday                  7              2018  \n",
       "3               30               Monday                  7              2018  \n",
       "4               30               Monday                  7              2018  "
      ]
     },
     "execution_count": 45,
     "metadata": {},
     "output_type": "execute_result"
    }
   ],
   "source": [
    "df_time.head()"
   ]
  },
  {
   "cell_type": "markdown",
   "metadata": {},
   "source": [
    "A little examination shows, that almost 60k of the 84k trades have been made in August. Since only 4 months of data have been captured, we cannot spot any seasonality as this would require data for at least an entire year."
   ]
  },
  {
   "cell_type": "code",
   "execution_count": 46,
   "metadata": {},
   "outputs": [
    {
     "data": {
      "text/plain": [
       "<matplotlib.axes._subplots.AxesSubplot at 0x7f9ac0195450>"
      ]
     },
     "execution_count": 46,
     "metadata": {},
     "output_type": "execute_result"
    },
    {
     "data": {
      "image/png": "[encoded data removed]",
      "text/plain": [
       "<Figure size 432x288 with 1 Axes>"
      ]
     },
     "metadata": {},
     "output_type": "display_data"
    }
   ],
   "source": [
    "sns.set_style('whitegrid') \n",
    "sns.distplot(df_time['executed_at_month'], kde = False, color ='red', bins = 4) "
   ]
  },
  {
   "cell_type": "markdown",
   "metadata": {},
   "source": [
    "Day of the month shows that on average, there have been more trades in the first half of a month, compared to the latter half. This could possibly have to do with more disposable income being available at the beginning of a month, which is then spend on investment such as stock or other financial products. This is in an interesting finding and could absolutely be employed for marketing and product design purposes."
   ]
  },
  {
   "cell_type": "code",
   "execution_count": 48,
   "metadata": {},
   "outputs": [
    {
     "data": {
      "text/plain": [
       "<matplotlib.axes._subplots.AxesSubplot at 0x7f9ac0954650>"
      ]
     },
     "execution_count": 48,
     "metadata": {},
     "output_type": "execute_result"
    },
    {
     "data": {
      "image/png": "[encoded data removed]",
      "text/plain": [
       "<Figure size 432x288 with 1 Axes>"
      ]
     },
     "metadata": {},
     "output_type": "display_data"
    }
   ],
   "source": [
    "sns.set_style('whitegrid') \n",
    "sns.distplot(df_time['executed_at_day'], kde = False, color ='red', bins = 31) "
   ]
  },
  {
   "cell_type": "markdown",
   "metadata": {},
   "source": [
    "Next, let's also utilize the instrument id in a useful fashion. As a proxy for it, we can use the frequency of it to indicate whether it is a \"mainstream\" or \"niche\" product. "
   ]
  },
  {
   "cell_type": "code",
   "execution_count": 49,
   "metadata": {},
   "outputs": [],
   "source": [
    "inst_counts = df_time['instrument_id'].value_counts().to_frame().reset_index()"
   ]
  },
  {
   "cell_type": "code",
   "execution_count": 50,
   "metadata": {},
   "outputs": [],
   "source": [
    "inst_counts.rename(columns = {'index':'instrument_id', 'instrument_id':'instrument_count'}, inplace = True) "
   ]
  },
  {
   "cell_type": "code",
   "execution_count": 51,
   "metadata": {},
   "outputs": [
    {
     "data": {
      "text/html": [
       "<div>\n",
       "<style scoped>\n",
       "    .dataframe tbody tr th:only-of-type {\n",
       "        vertical-align: middle;\n",
       "    }\n",
       "\n",
       "    .dataframe tbody tr th {\n",
       "        vertical-align: top;\n",
       "    }\n",
       "\n",
       "    .dataframe thead th {\n",
       "        text-align: right;\n",
       "    }\n",
       "</style>\n",
       "<table border=\"1\" class=\"dataframe\">\n",
       "  <thead>\n",
       "    <tr style=\"text-align: right;\">\n",
       "      <th></th>\n",
       "      <th>instrument_id</th>\n",
       "      <th>instrument_count</th>\n",
       "    </tr>\n",
       "  </thead>\n",
       "  <tbody>\n",
       "    <tr>\n",
       "      <th>0</th>\n",
       "      <td>US0378331005</td>\n",
       "      <td>3913</td>\n",
       "    </tr>\n",
       "    <tr>\n",
       "      <th>1</th>\n",
       "      <td>US88160R1014</td>\n",
       "      <td>3007</td>\n",
       "    </tr>\n",
       "    <tr>\n",
       "      <th>2</th>\n",
       "      <td>US64110L1061</td>\n",
       "      <td>2410</td>\n",
       "    </tr>\n",
       "    <tr>\n",
       "      <th>3</th>\n",
       "      <td>DE0007472060</td>\n",
       "      <td>2341</td>\n",
       "    </tr>\n",
       "    <tr>\n",
       "      <th>4</th>\n",
       "      <td>US30303M1027</td>\n",
       "      <td>1809</td>\n",
       "    </tr>\n",
       "  </tbody>\n",
       "</table>\n",
       "</div>"
      ],
      "text/plain": [
       "  instrument_id  instrument_count\n",
       "0  US0378331005              3913\n",
       "1  US88160R1014              3007\n",
       "2  US64110L1061              2410\n",
       "3  DE0007472060              2341\n",
       "4  US30303M1027              1809"
      ]
     },
     "execution_count": 51,
     "metadata": {},
     "output_type": "execute_result"
    }
   ],
   "source": [
    "inst_counts.head()"
   ]
  },
  {
   "cell_type": "markdown",
   "metadata": {},
   "source": [
    "The same is being done for the weekday name, as we can see that most trades occur on wednesdays, while friday shows the least activity."
   ]
  },
  {
   "cell_type": "code",
   "execution_count": 52,
   "metadata": {},
   "outputs": [],
   "source": [
    "day_counts = df_time['executed_at_day_name'].value_counts().to_frame().reset_index()"
   ]
  },
  {
   "cell_type": "code",
   "execution_count": 53,
   "metadata": {},
   "outputs": [],
   "source": [
    "day_counts.rename(columns = {'index':'executed_at_day_name', 'executed_at_day_name':'dayname_count'}, inplace = True) "
   ]
  },
  {
   "cell_type": "code",
   "execution_count": 54,
   "metadata": {},
   "outputs": [
    {
     "data": {
      "text/html": [
       "<div>\n",
       "<style scoped>\n",
       "    .dataframe tbody tr th:only-of-type {\n",
       "        vertical-align: middle;\n",
       "    }\n",
       "\n",
       "    .dataframe tbody tr th {\n",
       "        vertical-align: top;\n",
       "    }\n",
       "\n",
       "    .dataframe thead th {\n",
       "        text-align: right;\n",
       "    }\n",
       "</style>\n",
       "<table border=\"1\" class=\"dataframe\">\n",
       "  <thead>\n",
       "    <tr style=\"text-align: right;\">\n",
       "      <th></th>\n",
       "      <th>executed_at_day_name</th>\n",
       "      <th>dayname_count</th>\n",
       "    </tr>\n",
       "  </thead>\n",
       "  <tbody>\n",
       "    <tr>\n",
       "      <th>0</th>\n",
       "      <td>Wednesday</td>\n",
       "      <td>20549</td>\n",
       "    </tr>\n",
       "    <tr>\n",
       "      <th>1</th>\n",
       "      <td>Monday</td>\n",
       "      <td>17482</td>\n",
       "    </tr>\n",
       "    <tr>\n",
       "      <th>2</th>\n",
       "      <td>Tuesday</td>\n",
       "      <td>16650</td>\n",
       "    </tr>\n",
       "    <tr>\n",
       "      <th>3</th>\n",
       "      <td>Thursday</td>\n",
       "      <td>15937</td>\n",
       "    </tr>\n",
       "    <tr>\n",
       "      <th>4</th>\n",
       "      <td>Friday</td>\n",
       "      <td>13633</td>\n",
       "    </tr>\n",
       "  </tbody>\n",
       "</table>\n",
       "</div>"
      ],
      "text/plain": [
       "  executed_at_day_name  dayname_count\n",
       "0            Wednesday          20549\n",
       "1               Monday          17482\n",
       "2              Tuesday          16650\n",
       "3             Thursday          15937\n",
       "4               Friday          13633"
      ]
     },
     "execution_count": 54,
     "metadata": {},
     "output_type": "execute_result"
    }
   ],
   "source": [
    "day_counts.head()"
   ]
  },
  {
   "cell_type": "markdown",
   "metadata": {},
   "source": [
    "And also for the month and the day of the month, we use the frequency as the way to encode this categorical feature.\n",
    "\n",
    "Sure, variables such as day, week or month are actually ordinal cyclical ones, but keeping them as is will not take into account their cyclical properties. What you could possibly do is use a trigonometric approach by doing something like this:\n",
    "\n",
    "x_month = sin(2*pi*month/12)\n",
    "\n",
    "y_month = cos(2*pi*month/12)\n",
    "\n",
    "But since I am not planning to use a linear regression model, just keeping them as categorical variables is just fine."
   ]
  },
  {
   "cell_type": "code",
   "execution_count": 55,
   "metadata": {},
   "outputs": [],
   "source": [
    "month_counts = df_time['executed_at_month'].value_counts().to_frame().reset_index()"
   ]
  },
  {
   "cell_type": "code",
   "execution_count": 56,
   "metadata": {},
   "outputs": [],
   "source": [
    "month_counts.rename(columns = {'index':'executed_at_month', 'executed_at_month':'month_count'}, inplace = True) "
   ]
  },
  {
   "cell_type": "code",
   "execution_count": 57,
   "metadata": {},
   "outputs": [
    {
     "data": {
      "text/html": [
       "<div>\n",
       "<style scoped>\n",
       "    .dataframe tbody tr th:only-of-type {\n",
       "        vertical-align: middle;\n",
       "    }\n",
       "\n",
       "    .dataframe tbody tr th {\n",
       "        vertical-align: top;\n",
       "    }\n",
       "\n",
       "    .dataframe thead th {\n",
       "        text-align: right;\n",
       "    }\n",
       "</style>\n",
       "<table border=\"1\" class=\"dataframe\">\n",
       "  <thead>\n",
       "    <tr style=\"text-align: right;\">\n",
       "      <th></th>\n",
       "      <th>executed_at_month</th>\n",
       "      <th>month_count</th>\n",
       "    </tr>\n",
       "  </thead>\n",
       "  <tbody>\n",
       "    <tr>\n",
       "      <th>0</th>\n",
       "      <td>8</td>\n",
       "      <td>58852</td>\n",
       "    </tr>\n",
       "    <tr>\n",
       "      <th>1</th>\n",
       "      <td>9</td>\n",
       "      <td>20700</td>\n",
       "    </tr>\n",
       "    <tr>\n",
       "      <th>2</th>\n",
       "      <td>7</td>\n",
       "      <td>3364</td>\n",
       "    </tr>\n",
       "    <tr>\n",
       "      <th>3</th>\n",
       "      <td>6</td>\n",
       "      <td>1342</td>\n",
       "    </tr>\n",
       "  </tbody>\n",
       "</table>\n",
       "</div>"
      ],
      "text/plain": [
       "   executed_at_month  month_count\n",
       "0                  8        58852\n",
       "1                  9        20700\n",
       "2                  7         3364\n",
       "3                  6         1342"
      ]
     },
     "execution_count": 57,
     "metadata": {},
     "output_type": "execute_result"
    }
   ],
   "source": [
    "month_counts.head()"
   ]
  },
  {
   "cell_type": "code",
   "execution_count": 58,
   "metadata": {},
   "outputs": [],
   "source": [
    "day_month_counts = df_time['executed_at_day'].value_counts().to_frame().reset_index()"
   ]
  },
  {
   "cell_type": "code",
   "execution_count": 59,
   "metadata": {},
   "outputs": [],
   "source": [
    "day_month_counts.rename(columns = {'index':'executed_at_day', 'executed_at_day':'day_month_count'}, inplace = True) "
   ]
  },
  {
   "cell_type": "code",
   "execution_count": 71,
   "metadata": {},
   "outputs": [],
   "source": [
    "df_counts = pd.merge(df_time, day_counts, on='executed_at_day_name')\n",
    "df_ints = pd.merge(df_counts, inst_counts, on='instrument_id')\n",
    "df_months = pd.merge(df_ints, month_counts, on='executed_at_month')\n",
    "df_day_months = pd.merge(df_months, day_month_counts, on='executed_at_day')\n"
   ]
  },
  {
   "cell_type": "code",
   "execution_count": 72,
   "metadata": {},
   "outputs": [
    {
     "data": {
      "text/html": [
       "<div>\n",
       "<style scoped>\n",
       "    .dataframe tbody tr th:only-of-type {\n",
       "        vertical-align: middle;\n",
       "    }\n",
       "\n",
       "    .dataframe tbody tr th {\n",
       "        vertical-align: top;\n",
       "    }\n",
       "\n",
       "    .dataframe thead th {\n",
       "        text-align: right;\n",
       "    }\n",
       "</style>\n",
       "<table border=\"1\" class=\"dataframe\">\n",
       "  <thead>\n",
       "    <tr style=\"text-align: right;\">\n",
       "      <th></th>\n",
       "      <th>quantity</th>\n",
       "      <th>price</th>\n",
       "      <th>total</th>\n",
       "      <th>executed_at_day</th>\n",
       "      <th>executed_at_month</th>\n",
       "      <th>executed_at_year</th>\n",
       "      <th>dayname_count</th>\n",
       "      <th>instrument_count</th>\n",
       "      <th>month_count</th>\n",
       "      <th>day_month_count</th>\n",
       "    </tr>\n",
       "  </thead>\n",
       "  <tbody>\n",
       "    <tr>\n",
       "      <th>count</th>\n",
       "      <td>84258.000000</td>\n",
       "      <td>84258.000000</td>\n",
       "      <td>84258.000000</td>\n",
       "      <td>84258.000000</td>\n",
       "      <td>84258.000000</td>\n",
       "      <td>84258.0</td>\n",
       "      <td>84258.000000</td>\n",
       "      <td>84258.000000</td>\n",
       "      <td>84258.000000</td>\n",
       "      <td>84258.000000</td>\n",
       "    </tr>\n",
       "    <tr>\n",
       "      <th>mean</th>\n",
       "      <td>186.230313</td>\n",
       "      <td>118.783381</td>\n",
       "      <td>2072.953607</td>\n",
       "      <td>14.395737</td>\n",
       "      <td>8.173894</td>\n",
       "      <td>2018.0</td>\n",
       "      <td>17149.124261</td>\n",
       "      <td>838.148900</td>\n",
       "      <td>46347.710176</td>\n",
       "      <td>3495.757768</td>\n",
       "    </tr>\n",
       "    <tr>\n",
       "      <th>std</th>\n",
       "      <td>751.998136</td>\n",
       "      <td>201.743479</td>\n",
       "      <td>1678.202622</td>\n",
       "      <td>9.850349</td>\n",
       "      <td>0.564865</td>\n",
       "      <td>0.0</td>\n",
       "      <td>2279.042248</td>\n",
       "      <td>1026.743296</td>\n",
       "      <td>19412.568335</td>\n",
       "      <td>1232.587239</td>\n",
       "    </tr>\n",
       "    <tr>\n",
       "      <th>min</th>\n",
       "      <td>1.000000</td>\n",
       "      <td>0.001000</td>\n",
       "      <td>0.010000</td>\n",
       "      <td>1.000000</td>\n",
       "      <td>6.000000</td>\n",
       "      <td>2018.0</td>\n",
       "      <td>2.000000</td>\n",
       "      <td>1.000000</td>\n",
       "      <td>1342.000000</td>\n",
       "      <td>123.000000</td>\n",
       "    </tr>\n",
       "    <tr>\n",
       "      <th>25%</th>\n",
       "      <td>8.000000</td>\n",
       "      <td>20.605250</td>\n",
       "      <td>578.227500</td>\n",
       "      <td>6.000000</td>\n",
       "      <td>8.000000</td>\n",
       "      <td>2018.0</td>\n",
       "      <td>15937.000000</td>\n",
       "      <td>96.000000</td>\n",
       "      <td>20700.000000</td>\n",
       "      <td>2362.000000</td>\n",
       "    </tr>\n",
       "    <tr>\n",
       "      <th>50%</th>\n",
       "      <td>20.000000</td>\n",
       "      <td>66.380000</td>\n",
       "      <td>1572.815000</td>\n",
       "      <td>12.000000</td>\n",
       "      <td>8.000000</td>\n",
       "      <td>2018.0</td>\n",
       "      <td>16650.000000</td>\n",
       "      <td>441.000000</td>\n",
       "      <td>58852.000000</td>\n",
       "      <td>3554.000000</td>\n",
       "    </tr>\n",
       "    <tr>\n",
       "      <th>75%</th>\n",
       "      <td>75.000000</td>\n",
       "      <td>161.456250</td>\n",
       "      <td>3520.440000</td>\n",
       "      <td>23.000000</td>\n",
       "      <td>8.000000</td>\n",
       "      <td>2018.0</td>\n",
       "      <td>17482.000000</td>\n",
       "      <td>1032.000000</td>\n",
       "      <td>58852.000000</td>\n",
       "      <td>4308.000000</td>\n",
       "    </tr>\n",
       "    <tr>\n",
       "      <th>max</th>\n",
       "      <td>13000.000000</td>\n",
       "      <td>1725.215000</td>\n",
       "      <td>7938.000000</td>\n",
       "      <td>31.000000</td>\n",
       "      <td>9.000000</td>\n",
       "      <td>2018.0</td>\n",
       "      <td>20549.000000</td>\n",
       "      <td>3913.000000</td>\n",
       "      <td>58852.000000</td>\n",
       "      <td>5536.000000</td>\n",
       "    </tr>\n",
       "  </tbody>\n",
       "</table>\n",
       "</div>"
      ],
      "text/plain": [
       "           quantity         price         total  executed_at_day  \\\n",
       "count  84258.000000  84258.000000  84258.000000     84258.000000   \n",
       "mean     186.230313    118.783381   2072.953607        14.395737   \n",
       "std      751.998136    201.743479   1678.202622         9.850349   \n",
       "min        1.000000      0.001000      0.010000         1.000000   \n",
       "25%        8.000000     20.605250    578.227500         6.000000   \n",
       "50%       20.000000     66.380000   1572.815000        12.000000   \n",
       "75%       75.000000    161.456250   3520.440000        23.000000   \n",
       "max    13000.000000   1725.215000   7938.000000        31.000000   \n",
       "\n",
       "       executed_at_month  executed_at_year  dayname_count  instrument_count  \\\n",
       "count       84258.000000           84258.0   84258.000000      84258.000000   \n",
       "mean            8.173894            2018.0   17149.124261        838.148900   \n",
       "std             0.564865               0.0    2279.042248       1026.743296   \n",
       "min             6.000000            2018.0       2.000000          1.000000   \n",
       "25%             8.000000            2018.0   15937.000000         96.000000   \n",
       "50%             8.000000            2018.0   16650.000000        441.000000   \n",
       "75%             8.000000            2018.0   17482.000000       1032.000000   \n",
       "max             9.000000            2018.0   20549.000000       3913.000000   \n",
       "\n",
       "        month_count  day_month_count  \n",
       "count  84258.000000     84258.000000  \n",
       "mean   46347.710176      3495.757768  \n",
       "std    19412.568335      1232.587239  \n",
       "min     1342.000000       123.000000  \n",
       "25%    20700.000000      2362.000000  \n",
       "50%    58852.000000      3554.000000  \n",
       "75%    58852.000000      4308.000000  \n",
       "max    58852.000000      5536.000000  "
      ]
     },
     "execution_count": 72,
     "metadata": {},
     "output_type": "execute_result"
    }
   ],
   "source": [
    "df_day_months.describe()"
   ]
  },
  {
   "cell_type": "markdown",
   "metadata": {},
   "source": [
    "# Data Aggregation, Dimensionality Reduction, Clustering"
   ]
  },
  {
   "cell_type": "markdown",
   "metadata": {},
   "source": [
    "Moving on to the clustering part, we select the features that we want to perform clustering on."
   ]
  },
  {
   "cell_type": "code",
   "execution_count": 73,
   "metadata": {},
   "outputs": [],
   "source": [
    "df_cluster = df_day_months[['quantity', 'price', 'total', \n",
    "                                         'dayname_count', 'instrument_count',\n",
    "                                        'month_count', 'day_month_count', 'portfolio_id']]"
   ]
  },
  {
   "cell_type": "code",
   "execution_count": 75,
   "metadata": {},
   "outputs": [
    {
     "data": {
      "text/html": [
       "<div>\n",
       "<style scoped>\n",
       "    .dataframe tbody tr th:only-of-type {\n",
       "        vertical-align: middle;\n",
       "    }\n",
       "\n",
       "    .dataframe tbody tr th {\n",
       "        vertical-align: top;\n",
       "    }\n",
       "\n",
       "    .dataframe thead th {\n",
       "        text-align: right;\n",
       "    }\n",
       "</style>\n",
       "<table border=\"1\" class=\"dataframe\">\n",
       "  <thead>\n",
       "    <tr style=\"text-align: right;\">\n",
       "      <th></th>\n",
       "      <th>quantity</th>\n",
       "      <th>price</th>\n",
       "      <th>total</th>\n",
       "      <th>dayname_count</th>\n",
       "      <th>instrument_count</th>\n",
       "      <th>month_count</th>\n",
       "      <th>day_month_count</th>\n",
       "      <th>portfolio_id</th>\n",
       "    </tr>\n",
       "  </thead>\n",
       "  <tbody>\n",
       "    <tr>\n",
       "      <th>0</th>\n",
       "      <td>8.0</td>\n",
       "      <td>235.630</td>\n",
       "      <td>1885.04</td>\n",
       "      <td>17482</td>\n",
       "      <td>44</td>\n",
       "      <td>3364</td>\n",
       "      <td>3759</td>\n",
       "      <td>170867ad-9865-466e-bdf8-5e3ea551344c</td>\n",
       "    </tr>\n",
       "    <tr>\n",
       "      <th>1</th>\n",
       "      <td>5.0</td>\n",
       "      <td>101.953</td>\n",
       "      <td>509.77</td>\n",
       "      <td>17482</td>\n",
       "      <td>752</td>\n",
       "      <td>3364</td>\n",
       "      <td>3759</td>\n",
       "      <td>170867ad-9865-466e-bdf8-5e3ea551344c</td>\n",
       "    </tr>\n",
       "    <tr>\n",
       "      <th>2</th>\n",
       "      <td>5.0</td>\n",
       "      <td>102.479</td>\n",
       "      <td>512.39</td>\n",
       "      <td>17482</td>\n",
       "      <td>752</td>\n",
       "      <td>3364</td>\n",
       "      <td>3759</td>\n",
       "      <td>be810de0-6aea-4a05-977a-b1226c91aba4</td>\n",
       "    </tr>\n",
       "    <tr>\n",
       "      <th>3</th>\n",
       "      <td>5.0</td>\n",
       "      <td>102.359</td>\n",
       "      <td>511.79</td>\n",
       "      <td>17482</td>\n",
       "      <td>752</td>\n",
       "      <td>3364</td>\n",
       "      <td>3759</td>\n",
       "      <td>be810de0-6aea-4a05-977a-b1226c91aba4</td>\n",
       "    </tr>\n",
       "    <tr>\n",
       "      <th>4</th>\n",
       "      <td>20.0</td>\n",
       "      <td>102.299</td>\n",
       "      <td>2045.98</td>\n",
       "      <td>17482</td>\n",
       "      <td>752</td>\n",
       "      <td>3364</td>\n",
       "      <td>3759</td>\n",
       "      <td>ca9a80c9-0c70-4cc1-a248-0d7b003d20b2</td>\n",
       "    </tr>\n",
       "  </tbody>\n",
       "</table>\n",
       "</div>"
      ],
      "text/plain": [
       "   quantity    price    total  dayname_count  instrument_count  month_count  \\\n",
       "0       8.0  235.630  1885.04          17482                44         3364   \n",
       "1       5.0  101.953   509.77          17482               752         3364   \n",
       "2       5.0  102.479   512.39          17482               752         3364   \n",
       "3       5.0  102.359   511.79          17482               752         3364   \n",
       "4      20.0  102.299  2045.98          17482               752         3364   \n",
       "\n",
       "   day_month_count                          portfolio_id  \n",
       "0             3759  170867ad-9865-466e-bdf8-5e3ea551344c  \n",
       "1             3759  170867ad-9865-466e-bdf8-5e3ea551344c  \n",
       "2             3759  be810de0-6aea-4a05-977a-b1226c91aba4  \n",
       "3             3759  be810de0-6aea-4a05-977a-b1226c91aba4  \n",
       "4             3759  ca9a80c9-0c70-4cc1-a248-0d7b003d20b2  "
      ]
     },
     "execution_count": 75,
     "metadata": {},
     "output_type": "execute_result"
    }
   ],
   "source": [
    "df_cluster.head()"
   ]
  },
  {
   "cell_type": "markdown",
   "metadata": {},
   "source": [
    "Before we cluster, we check if there is a correlation between any of the newly added features, which does not seem apparent."
   ]
  },
  {
   "cell_type": "code",
   "execution_count": 64,
   "metadata": {},
   "outputs": [
    {
     "data": {
      "text/html": [
       "<div>\n",
       "<style scoped>\n",
       "    .dataframe tbody tr th:only-of-type {\n",
       "        vertical-align: middle;\n",
       "    }\n",
       "\n",
       "    .dataframe tbody tr th {\n",
       "        vertical-align: top;\n",
       "    }\n",
       "\n",
       "    .dataframe thead th {\n",
       "        text-align: right;\n",
       "    }\n",
       "</style>\n",
       "<table border=\"1\" class=\"dataframe\">\n",
       "  <thead>\n",
       "    <tr style=\"text-align: right;\">\n",
       "      <th></th>\n",
       "      <th>quantity</th>\n",
       "      <th>price</th>\n",
       "      <th>total</th>\n",
       "      <th>dayname_count</th>\n",
       "      <th>instrument_count</th>\n",
       "      <th>month_count</th>\n",
       "      <th>day_month_count</th>\n",
       "    </tr>\n",
       "  </thead>\n",
       "  <tbody>\n",
       "    <tr>\n",
       "      <th>quantity</th>\n",
       "      <td>1.000000</td>\n",
       "      <td>-0.132149</td>\n",
       "      <td>0.146876</td>\n",
       "      <td>0.001879</td>\n",
       "      <td>-0.094322</td>\n",
       "      <td>-0.008212</td>\n",
       "      <td>0.012764</td>\n",
       "    </tr>\n",
       "    <tr>\n",
       "      <th>price</th>\n",
       "      <td>-0.132149</td>\n",
       "      <td>1.000000</td>\n",
       "      <td>0.144639</td>\n",
       "      <td>-0.001669</td>\n",
       "      <td>0.231821</td>\n",
       "      <td>-0.018226</td>\n",
       "      <td>-0.004880</td>\n",
       "    </tr>\n",
       "    <tr>\n",
       "      <th>total</th>\n",
       "      <td>0.146876</td>\n",
       "      <td>0.144639</td>\n",
       "      <td>1.000000</td>\n",
       "      <td>0.021076</td>\n",
       "      <td>0.126429</td>\n",
       "      <td>0.016893</td>\n",
       "      <td>0.007137</td>\n",
       "    </tr>\n",
       "    <tr>\n",
       "      <th>dayname_count</th>\n",
       "      <td>0.001879</td>\n",
       "      <td>-0.001669</td>\n",
       "      <td>0.021076</td>\n",
       "      <td>1.000000</td>\n",
       "      <td>-0.006491</td>\n",
       "      <td>-0.078697</td>\n",
       "      <td>-0.044896</td>\n",
       "    </tr>\n",
       "    <tr>\n",
       "      <th>instrument_count</th>\n",
       "      <td>-0.094322</td>\n",
       "      <td>0.231821</td>\n",
       "      <td>0.126429</td>\n",
       "      <td>-0.006491</td>\n",
       "      <td>1.000000</td>\n",
       "      <td>-0.014782</td>\n",
       "      <td>0.001969</td>\n",
       "    </tr>\n",
       "    <tr>\n",
       "      <th>month_count</th>\n",
       "      <td>-0.008212</td>\n",
       "      <td>-0.018226</td>\n",
       "      <td>0.016893</td>\n",
       "      <td>-0.078697</td>\n",
       "      <td>-0.014782</td>\n",
       "      <td>1.000000</td>\n",
       "      <td>-0.052134</td>\n",
       "    </tr>\n",
       "    <tr>\n",
       "      <th>day_month_count</th>\n",
       "      <td>0.012764</td>\n",
       "      <td>-0.004880</td>\n",
       "      <td>0.007137</td>\n",
       "      <td>-0.044896</td>\n",
       "      <td>0.001969</td>\n",
       "      <td>-0.052134</td>\n",
       "      <td>1.000000</td>\n",
       "    </tr>\n",
       "  </tbody>\n",
       "</table>\n",
       "</div>"
      ],
      "text/plain": [
       "                  quantity     price     total  dayname_count  \\\n",
       "quantity          1.000000 -0.132149  0.146876       0.001879   \n",
       "price            -0.132149  1.000000  0.144639      -0.001669   \n",
       "total             0.146876  0.144639  1.000000       0.021076   \n",
       "dayname_count     0.001879 -0.001669  0.021076       1.000000   \n",
       "instrument_count -0.094322  0.231821  0.126429      -0.006491   \n",
       "month_count      -0.008212 -0.018226  0.016893      -0.078697   \n",
       "day_month_count   0.012764 -0.004880  0.007137      -0.044896   \n",
       "\n",
       "                  instrument_count  month_count  day_month_count  \n",
       "quantity                 -0.094322    -0.008212         0.012764  \n",
       "price                     0.231821    -0.018226        -0.004880  \n",
       "total                     0.126429     0.016893         0.007137  \n",
       "dayname_count            -0.006491    -0.078697        -0.044896  \n",
       "instrument_count          1.000000    -0.014782         0.001969  \n",
       "month_count              -0.014782     1.000000        -0.052134  \n",
       "day_month_count           0.001969    -0.052134         1.000000  "
      ]
     },
     "execution_count": 64,
     "metadata": {},
     "output_type": "execute_result"
    }
   ],
   "source": [
    "df_cluster.corr()"
   ]
  },
  {
   "cell_type": "markdown",
   "metadata": {},
   "source": [
    "To create \"user profiles\", we aggregate the data over the portfolio id. "
   ]
  },
  {
   "cell_type": "code",
   "execution_count": 76,
   "metadata": {},
   "outputs": [],
   "source": [
    "d = {'quantity': ['mean', 'sum', 'max', 'min', 'std', 'count'], \n",
    "     'price': ['mean', 'sum', 'max', 'min', 'std'],\n",
    "     'total': ['mean', 'sum', 'max', 'min', 'std'],\n",
    "     'dayname_count': ['mean', 'max', 'min'],\n",
    "     'instrument_count': ['mean', 'max', 'min'],\n",
    "     'month_count': ['mean', 'max', 'min'],\n",
    "     'day_month_count': ['mean', 'max', 'min'],\n",
    "    }\n",
    "\n",
    "cluster_agg = df_cluster.groupby('portfolio_id').agg(d)"
   ]
  },
  {
   "cell_type": "code",
   "execution_count": 77,
   "metadata": {},
   "outputs": [],
   "source": [
    "cluster_agg.columns = ['_'.join(col) for col in cluster_agg.columns.values]"
   ]
  },
  {
   "cell_type": "code",
   "execution_count": 78,
   "metadata": {},
   "outputs": [
    {
     "data": {
      "text/html": [
       "<div>\n",
       "<style scoped>\n",
       "    .dataframe tbody tr th:only-of-type {\n",
       "        vertical-align: middle;\n",
       "    }\n",
       "\n",
       "    .dataframe tbody tr th {\n",
       "        vertical-align: top;\n",
       "    }\n",
       "\n",
       "    .dataframe thead th {\n",
       "        text-align: right;\n",
       "    }\n",
       "</style>\n",
       "<table border=\"1\" class=\"dataframe\">\n",
       "  <thead>\n",
       "    <tr style=\"text-align: right;\">\n",
       "      <th></th>\n",
       "      <th>quantity_mean</th>\n",
       "      <th>quantity_sum</th>\n",
       "      <th>quantity_max</th>\n",
       "      <th>quantity_min</th>\n",
       "      <th>quantity_std</th>\n",
       "      <th>quantity_count</th>\n",
       "      <th>price_mean</th>\n",
       "      <th>price_sum</th>\n",
       "      <th>price_max</th>\n",
       "      <th>price_min</th>\n",
       "      <th>...</th>\n",
       "      <th>dayname_count_min</th>\n",
       "      <th>instrument_count_mean</th>\n",
       "      <th>instrument_count_max</th>\n",
       "      <th>instrument_count_min</th>\n",
       "      <th>month_count_mean</th>\n",
       "      <th>month_count_max</th>\n",
       "      <th>month_count_min</th>\n",
       "      <th>day_month_count_mean</th>\n",
       "      <th>day_month_count_max</th>\n",
       "      <th>day_month_count_min</th>\n",
       "    </tr>\n",
       "    <tr>\n",
       "      <th>portfolio_id</th>\n",
       "      <th></th>\n",
       "      <th></th>\n",
       "      <th></th>\n",
       "      <th></th>\n",
       "      <th></th>\n",
       "      <th></th>\n",
       "      <th></th>\n",
       "      <th></th>\n",
       "      <th></th>\n",
       "      <th></th>\n",
       "      <th></th>\n",
       "      <th></th>\n",
       "      <th></th>\n",
       "      <th></th>\n",
       "      <th></th>\n",
       "      <th></th>\n",
       "      <th></th>\n",
       "      <th></th>\n",
       "      <th></th>\n",
       "      <th></th>\n",
       "      <th></th>\n",
       "    </tr>\n",
       "  </thead>\n",
       "  <tbody>\n",
       "    <tr>\n",
       "      <th>0022f709-9ce1-41b5-8b89-54741ecae1e7</th>\n",
       "      <td>60.764706</td>\n",
       "      <td>1033.0</td>\n",
       "      <td>400.0</td>\n",
       "      <td>3.0</td>\n",
       "      <td>95.390336</td>\n",
       "      <td>17</td>\n",
       "      <td>103.485059</td>\n",
       "      <td>1759.2460</td>\n",
       "      <td>428.490</td>\n",
       "      <td>6.014</td>\n",
       "      <td>...</td>\n",
       "      <td>13633</td>\n",
       "      <td>396.117647</td>\n",
       "      <td>917</td>\n",
       "      <td>13</td>\n",
       "      <td>58852.000000</td>\n",
       "      <td>58852</td>\n",
       "      <td>58852</td>\n",
       "      <td>1838.588235</td>\n",
       "      <td>2356</td>\n",
       "      <td>1386</td>\n",
       "    </tr>\n",
       "    <tr>\n",
       "      <th>00325aba-d537-4bdb-be3c-198132ee691a</th>\n",
       "      <td>145.916667</td>\n",
       "      <td>1751.0</td>\n",
       "      <td>500.0</td>\n",
       "      <td>10.0</td>\n",
       "      <td>182.645438</td>\n",
       "      <td>12</td>\n",
       "      <td>83.461783</td>\n",
       "      <td>1001.5414</td>\n",
       "      <td>207.490</td>\n",
       "      <td>1.452</td>\n",
       "      <td>...</td>\n",
       "      <td>15937</td>\n",
       "      <td>1258.833333</td>\n",
       "      <td>3913</td>\n",
       "      <td>51</td>\n",
       "      <td>55672.666667</td>\n",
       "      <td>58852</td>\n",
       "      <td>20700</td>\n",
       "      <td>3607.416667</td>\n",
       "      <td>4725</td>\n",
       "      <td>2341</td>\n",
       "    </tr>\n",
       "    <tr>\n",
       "      <th>0049d3cc-48b0-486e-9f6c-55a29b216d7f</th>\n",
       "      <td>20.000000</td>\n",
       "      <td>80.0</td>\n",
       "      <td>20.0</td>\n",
       "      <td>20.0</td>\n",
       "      <td>0.000000</td>\n",
       "      <td>4</td>\n",
       "      <td>228.458500</td>\n",
       "      <td>913.8340</td>\n",
       "      <td>244.039</td>\n",
       "      <td>188.400</td>\n",
       "      <td>...</td>\n",
       "      <td>16650</td>\n",
       "      <td>3233.500000</td>\n",
       "      <td>3913</td>\n",
       "      <td>3007</td>\n",
       "      <td>20700.000000</td>\n",
       "      <td>20700</td>\n",
       "      <td>20700</td>\n",
       "      <td>3682.250000</td>\n",
       "      <td>5396</td>\n",
       "      <td>2865</td>\n",
       "    </tr>\n",
       "    <tr>\n",
       "      <th>008d4cb7-3bf0-4516-ae2d-555fd234d071</th>\n",
       "      <td>39.941748</td>\n",
       "      <td>8228.0</td>\n",
       "      <td>1000.0</td>\n",
       "      <td>1.0</td>\n",
       "      <td>102.194680</td>\n",
       "      <td>206</td>\n",
       "      <td>115.818934</td>\n",
       "      <td>23858.7004</td>\n",
       "      <td>1722.027</td>\n",
       "      <td>0.111</td>\n",
       "      <td>...</td>\n",
       "      <td>13633</td>\n",
       "      <td>893.859223</td>\n",
       "      <td>3913</td>\n",
       "      <td>2</td>\n",
       "      <td>44877.864078</td>\n",
       "      <td>58852</td>\n",
       "      <td>3364</td>\n",
       "      <td>3469.199029</td>\n",
       "      <td>5536</td>\n",
       "      <td>1386</td>\n",
       "    </tr>\n",
       "    <tr>\n",
       "      <th>00ac046c-8a70-4ef5-b95b-5352d09c09fb</th>\n",
       "      <td>98.400000</td>\n",
       "      <td>492.0</td>\n",
       "      <td>392.0</td>\n",
       "      <td>15.0</td>\n",
       "      <td>164.425667</td>\n",
       "      <td>5</td>\n",
       "      <td>157.259600</td>\n",
       "      <td>786.2980</td>\n",
       "      <td>320.179</td>\n",
       "      <td>12.741</td>\n",
       "      <td>...</td>\n",
       "      <td>16650</td>\n",
       "      <td>1742.200000</td>\n",
       "      <td>3913</td>\n",
       "      <td>3</td>\n",
       "      <td>20700.000000</td>\n",
       "      <td>20700</td>\n",
       "      <td>20700</td>\n",
       "      <td>2865.000000</td>\n",
       "      <td>2865</td>\n",
       "      <td>2865</td>\n",
       "    </tr>\n",
       "  </tbody>\n",
       "</table>\n",
       "<p>5 rows × 28 columns</p>\n",
       "</div>"
      ],
      "text/plain": [
       "                                      quantity_mean  quantity_sum  \\\n",
       "portfolio_id                                                        \n",
       "0022f709-9ce1-41b5-8b89-54741ecae1e7      60.764706        1033.0   \n",
       "00325aba-d537-4bdb-be3c-198132ee691a     145.916667        1751.0   \n",
       "0049d3cc-48b0-486e-9f6c-55a29b216d7f      20.000000          80.0   \n",
       "008d4cb7-3bf0-4516-ae2d-555fd234d071      39.941748        8228.0   \n",
       "00ac046c-8a70-4ef5-b95b-5352d09c09fb      98.400000         492.0   \n",
       "\n",
       "                                      quantity_max  quantity_min  \\\n",
       "portfolio_id                                                       \n",
       "0022f709-9ce1-41b5-8b89-54741ecae1e7         400.0           3.0   \n",
       "00325aba-d537-4bdb-be3c-198132ee691a         500.0          10.0   \n",
       "0049d3cc-48b0-486e-9f6c-55a29b216d7f          20.0          20.0   \n",
       "008d4cb7-3bf0-4516-ae2d-555fd234d071        1000.0           1.0   \n",
       "00ac046c-8a70-4ef5-b95b-5352d09c09fb         392.0          15.0   \n",
       "\n",
       "                                      quantity_std  quantity_count  \\\n",
       "portfolio_id                                                         \n",
       "0022f709-9ce1-41b5-8b89-54741ecae1e7     95.390336              17   \n",
       "00325aba-d537-4bdb-be3c-198132ee691a    182.645438              12   \n",
       "0049d3cc-48b0-486e-9f6c-55a29b216d7f      0.000000               4   \n",
       "008d4cb7-3bf0-4516-ae2d-555fd234d071    102.194680             206   \n",
       "00ac046c-8a70-4ef5-b95b-5352d09c09fb    164.425667               5   \n",
       "\n",
       "                                      price_mean   price_sum  price_max  \\\n",
       "portfolio_id                                                              \n",
       "0022f709-9ce1-41b5-8b89-54741ecae1e7  103.485059   1759.2460    428.490   \n",
       "00325aba-d537-4bdb-be3c-198132ee691a   83.461783   1001.5414    207.490   \n",
       "0049d3cc-48b0-486e-9f6c-55a29b216d7f  228.458500    913.8340    244.039   \n",
       "008d4cb7-3bf0-4516-ae2d-555fd234d071  115.818934  23858.7004   1722.027   \n",
       "00ac046c-8a70-4ef5-b95b-5352d09c09fb  157.259600    786.2980    320.179   \n",
       "\n",
       "                                      price_min  ...  dayname_count_min  \\\n",
       "portfolio_id                                     ...                      \n",
       "0022f709-9ce1-41b5-8b89-54741ecae1e7      6.014  ...              13633   \n",
       "00325aba-d537-4bdb-be3c-198132ee691a      1.452  ...              15937   \n",
       "0049d3cc-48b0-486e-9f6c-55a29b216d7f    188.400  ...              16650   \n",
       "008d4cb7-3bf0-4516-ae2d-555fd234d071      0.111  ...              13633   \n",
       "00ac046c-8a70-4ef5-b95b-5352d09c09fb     12.741  ...              16650   \n",
       "\n",
       "                                      instrument_count_mean  \\\n",
       "portfolio_id                                                  \n",
       "0022f709-9ce1-41b5-8b89-54741ecae1e7             396.117647   \n",
       "00325aba-d537-4bdb-be3c-198132ee691a            1258.833333   \n",
       "0049d3cc-48b0-486e-9f6c-55a29b216d7f            3233.500000   \n",
       "008d4cb7-3bf0-4516-ae2d-555fd234d071             893.859223   \n",
       "00ac046c-8a70-4ef5-b95b-5352d09c09fb            1742.200000   \n",
       "\n",
       "                                      instrument_count_max  \\\n",
       "portfolio_id                                                 \n",
       "0022f709-9ce1-41b5-8b89-54741ecae1e7                   917   \n",
       "00325aba-d537-4bdb-be3c-198132ee691a                  3913   \n",
       "0049d3cc-48b0-486e-9f6c-55a29b216d7f                  3913   \n",
       "008d4cb7-3bf0-4516-ae2d-555fd234d071                  3913   \n",
       "00ac046c-8a70-4ef5-b95b-5352d09c09fb                  3913   \n",
       "\n",
       "                                      instrument_count_min  month_count_mean  \\\n",
       "portfolio_id                                                                   \n",
       "0022f709-9ce1-41b5-8b89-54741ecae1e7                    13      58852.000000   \n",
       "00325aba-d537-4bdb-be3c-198132ee691a                    51      55672.666667   \n",
       "0049d3cc-48b0-486e-9f6c-55a29b216d7f                  3007      20700.000000   \n",
       "008d4cb7-3bf0-4516-ae2d-555fd234d071                     2      44877.864078   \n",
       "00ac046c-8a70-4ef5-b95b-5352d09c09fb                     3      20700.000000   \n",
       "\n",
       "                                      month_count_max  month_count_min  \\\n",
       "portfolio_id                                                             \n",
       "0022f709-9ce1-41b5-8b89-54741ecae1e7            58852            58852   \n",
       "00325aba-d537-4bdb-be3c-198132ee691a            58852            20700   \n",
       "0049d3cc-48b0-486e-9f6c-55a29b216d7f            20700            20700   \n",
       "008d4cb7-3bf0-4516-ae2d-555fd234d071            58852             3364   \n",
       "00ac046c-8a70-4ef5-b95b-5352d09c09fb            20700            20700   \n",
       "\n",
       "                                      day_month_count_mean  \\\n",
       "portfolio_id                                                 \n",
       "0022f709-9ce1-41b5-8b89-54741ecae1e7           1838.588235   \n",
       "00325aba-d537-4bdb-be3c-198132ee691a           3607.416667   \n",
       "0049d3cc-48b0-486e-9f6c-55a29b216d7f           3682.250000   \n",
       "008d4cb7-3bf0-4516-ae2d-555fd234d071           3469.199029   \n",
       "00ac046c-8a70-4ef5-b95b-5352d09c09fb           2865.000000   \n",
       "\n",
       "                                      day_month_count_max  day_month_count_min  \n",
       "portfolio_id                                                                    \n",
       "0022f709-9ce1-41b5-8b89-54741ecae1e7                 2356                 1386  \n",
       "00325aba-d537-4bdb-be3c-198132ee691a                 4725                 2341  \n",
       "0049d3cc-48b0-486e-9f6c-55a29b216d7f                 5396                 2865  \n",
       "008d4cb7-3bf0-4516-ae2d-555fd234d071                 5536                 1386  \n",
       "00ac046c-8a70-4ef5-b95b-5352d09c09fb                 2865                 2865  \n",
       "\n",
       "[5 rows x 28 columns]"
      ]
     },
     "execution_count": 78,
     "metadata": {},
     "output_type": "execute_result"
    }
   ],
   "source": [
    "cluster_agg.head()"
   ]
  },
  {
   "cell_type": "markdown",
   "metadata": {},
   "source": [
    "We now deal with 3784 rows, indicating around 20 trades per portfolio."
   ]
  },
  {
   "cell_type": "code",
   "execution_count": 79,
   "metadata": {},
   "outputs": [
    {
     "data": {
      "text/plain": [
       "3784"
      ]
     },
     "execution_count": 79,
     "metadata": {},
     "output_type": "execute_result"
    }
   ],
   "source": [
    "len(cluster_agg)"
   ]
  },
  {
   "cell_type": "code",
   "execution_count": 80,
   "metadata": {},
   "outputs": [],
   "source": [
    "cluster_agg.isna().sum()\n",
    "cluster_agg = cluster_agg.fillna(0)"
   ]
  },
  {
   "cell_type": "markdown",
   "metadata": {},
   "source": [
    "In order for the dimensionality reduction and clustering to work properly, we need to scale the data uniformly."
   ]
  },
  {
   "cell_type": "code",
   "execution_count": 81,
   "metadata": {},
   "outputs": [],
   "source": [
    "scal = StandardScaler()\n",
    "df_scal = scal.fit_transform(cluster_agg)\n",
    "df_scal = pd.DataFrame(df_scal)"
   ]
  },
  {
   "cell_type": "code",
   "execution_count": 82,
   "metadata": {},
   "outputs": [],
   "source": [
    "df_scal.columns = cluster_agg.columns"
   ]
  },
  {
   "cell_type": "code",
   "execution_count": 83,
   "metadata": {},
   "outputs": [
    {
     "data": {
      "text/html": [
       "<div>\n",
       "<style scoped>\n",
       "    .dataframe tbody tr th:only-of-type {\n",
       "        vertical-align: middle;\n",
       "    }\n",
       "\n",
       "    .dataframe tbody tr th {\n",
       "        vertical-align: top;\n",
       "    }\n",
       "\n",
       "    .dataframe thead th {\n",
       "        text-align: right;\n",
       "    }\n",
       "</style>\n",
       "<table border=\"1\" class=\"dataframe\">\n",
       "  <thead>\n",
       "    <tr style=\"text-align: right;\">\n",
       "      <th></th>\n",
       "      <th>quantity_mean</th>\n",
       "      <th>quantity_sum</th>\n",
       "      <th>quantity_max</th>\n",
       "      <th>quantity_min</th>\n",
       "      <th>quantity_std</th>\n",
       "      <th>quantity_count</th>\n",
       "      <th>price_mean</th>\n",
       "      <th>price_sum</th>\n",
       "      <th>price_max</th>\n",
       "      <th>price_min</th>\n",
       "      <th>...</th>\n",
       "      <th>dayname_count_min</th>\n",
       "      <th>instrument_count_mean</th>\n",
       "      <th>instrument_count_max</th>\n",
       "      <th>instrument_count_min</th>\n",
       "      <th>month_count_mean</th>\n",
       "      <th>month_count_max</th>\n",
       "      <th>month_count_min</th>\n",
       "      <th>day_month_count_mean</th>\n",
       "      <th>day_month_count_max</th>\n",
       "      <th>day_month_count_min</th>\n",
       "    </tr>\n",
       "  </thead>\n",
       "  <tbody>\n",
       "    <tr>\n",
       "      <th>0</th>\n",
       "      <td>-0.359766</td>\n",
       "      <td>-0.312836</td>\n",
       "      <td>-0.376927</td>\n",
       "      <td>-0.085245</td>\n",
       "      <td>-0.393774</td>\n",
       "      <td>-0.157844</td>\n",
       "      <td>-0.280441</td>\n",
       "      <td>-0.221572</td>\n",
       "      <td>-0.202879</td>\n",
       "      <td>-0.231685</td>\n",
       "      <td>...</td>\n",
       "      <td>-0.884504</td>\n",
       "      <td>-0.981021</td>\n",
       "      <td>-1.638993</td>\n",
       "      <td>-0.388780</td>\n",
       "      <td>0.866280</td>\n",
       "      <td>0.614810</td>\n",
       "      <td>1.189702</td>\n",
       "      <td>-1.800666</td>\n",
       "      <td>-1.753462</td>\n",
       "      <td>-1.241701</td>\n",
       "    </tr>\n",
       "    <tr>\n",
       "      <th>1</th>\n",
       "      <td>-0.128709</td>\n",
       "      <td>-0.240700</td>\n",
       "      <td>-0.330945</td>\n",
       "      <td>-0.040230</td>\n",
       "      <td>-0.253191</td>\n",
       "      <td>-0.307689</td>\n",
       "      <td>-0.442647</td>\n",
       "      <td>-0.411126</td>\n",
       "      <td>-0.600756</td>\n",
       "      <td>-0.289654</td>\n",
       "      <td>...</td>\n",
       "      <td>0.151662</td>\n",
       "      <td>0.430734</td>\n",
       "      <td>0.844938</td>\n",
       "      <td>-0.316472</td>\n",
       "      <td>0.681785</td>\n",
       "      <td>0.614810</td>\n",
       "      <td>-0.629348</td>\n",
       "      <td>0.093789</td>\n",
       "      <td>0.319434</td>\n",
       "      <td>-0.351096</td>\n",
       "    </tr>\n",
       "    <tr>\n",
       "      <th>2</th>\n",
       "      <td>-0.470379</td>\n",
       "      <td>-0.408583</td>\n",
       "      <td>-0.551656</td>\n",
       "      <td>0.024078</td>\n",
       "      <td>-0.547463</td>\n",
       "      <td>-0.547441</td>\n",
       "      <td>0.731952</td>\n",
       "      <td>-0.433068</td>\n",
       "      <td>-0.534955</td>\n",
       "      <td>2.085873</td>\n",
       "      <td>...</td>\n",
       "      <td>0.472317</td>\n",
       "      <td>3.662096</td>\n",
       "      <td>0.844938</td>\n",
       "      <td>5.308349</td>\n",
       "      <td>-1.347663</td>\n",
       "      <td>-1.518424</td>\n",
       "      <td>-0.629348</td>\n",
       "      <td>0.173937</td>\n",
       "      <td>0.906565</td>\n",
       "      <td>0.137571</td>\n",
       "    </tr>\n",
       "    <tr>\n",
       "      <th>3</th>\n",
       "      <td>-0.416268</td>\n",
       "      <td>0.410035</td>\n",
       "      <td>-0.101037</td>\n",
       "      <td>-0.098107</td>\n",
       "      <td>-0.382811</td>\n",
       "      <td>5.506299</td>\n",
       "      <td>-0.180526</td>\n",
       "      <td>5.307013</td>\n",
       "      <td>2.125937</td>\n",
       "      <td>-0.306694</td>\n",
       "      <td>...</td>\n",
       "      <td>-0.884504</td>\n",
       "      <td>-0.166513</td>\n",
       "      <td>0.844938</td>\n",
       "      <td>-0.409711</td>\n",
       "      <td>0.055368</td>\n",
       "      <td>0.614810</td>\n",
       "      <td>-1.455911</td>\n",
       "      <td>-0.054245</td>\n",
       "      <td>1.029067</td>\n",
       "      <td>-1.241701</td>\n",
       "    </tr>\n",
       "    <tr>\n",
       "      <th>4</th>\n",
       "      <td>-0.257644</td>\n",
       "      <td>-0.367190</td>\n",
       "      <td>-0.380605</td>\n",
       "      <td>-0.008076</td>\n",
       "      <td>-0.282546</td>\n",
       "      <td>-0.517472</td>\n",
       "      <td>0.155179</td>\n",
       "      <td>-0.464973</td>\n",
       "      <td>-0.397877</td>\n",
       "      <td>-0.146206</td>\n",
       "      <td>...</td>\n",
       "      <td>0.472317</td>\n",
       "      <td>1.221720</td>\n",
       "      <td>0.844938</td>\n",
       "      <td>-0.407809</td>\n",
       "      <td>-1.347663</td>\n",
       "      <td>-1.518424</td>\n",
       "      <td>-0.629348</td>\n",
       "      <td>-0.701356</td>\n",
       "      <td>-1.308082</td>\n",
       "      <td>0.137571</td>\n",
       "    </tr>\n",
       "  </tbody>\n",
       "</table>\n",
       "<p>5 rows × 28 columns</p>\n",
       "</div>"
      ],
      "text/plain": [
       "   quantity_mean  quantity_sum  quantity_max  quantity_min  quantity_std  \\\n",
       "0      -0.359766     -0.312836     -0.376927     -0.085245     -0.393774   \n",
       "1      -0.128709     -0.240700     -0.330945     -0.040230     -0.253191   \n",
       "2      -0.470379     -0.408583     -0.551656      0.024078     -0.547463   \n",
       "3      -0.416268      0.410035     -0.101037     -0.098107     -0.382811   \n",
       "4      -0.257644     -0.367190     -0.380605     -0.008076     -0.282546   \n",
       "\n",
       "   quantity_count  price_mean  price_sum  price_max  price_min  ...  \\\n",
       "0       -0.157844   -0.280441  -0.221572  -0.202879  -0.231685  ...   \n",
       "1       -0.307689   -0.442647  -0.411126  -0.600756  -0.289654  ...   \n",
       "2       -0.547441    0.731952  -0.433068  -0.534955   2.085873  ...   \n",
       "3        5.506299   -0.180526   5.307013   2.125937  -0.306694  ...   \n",
       "4       -0.517472    0.155179  -0.464973  -0.397877  -0.146206  ...   \n",
       "\n",
       "   dayname_count_min  instrument_count_mean  instrument_count_max  \\\n",
       "0          -0.884504              -0.981021             -1.638993   \n",
       "1           0.151662               0.430734              0.844938   \n",
       "2           0.472317               3.662096              0.844938   \n",
       "3          -0.884504              -0.166513              0.844938   \n",
       "4           0.472317               1.221720              0.844938   \n",
       "\n",
       "   instrument_count_min  month_count_mean  month_count_max  month_count_min  \\\n",
       "0             -0.388780          0.866280         0.614810         1.189702   \n",
       "1             -0.316472          0.681785         0.614810        -0.629348   \n",
       "2              5.308349         -1.347663        -1.518424        -0.629348   \n",
       "3             -0.409711          0.055368         0.614810        -1.455911   \n",
       "4             -0.407809         -1.347663        -1.518424        -0.629348   \n",
       "\n",
       "   day_month_count_mean  day_month_count_max  day_month_count_min  \n",
       "0             -1.800666            -1.753462            -1.241701  \n",
       "1              0.093789             0.319434            -0.351096  \n",
       "2              0.173937             0.906565             0.137571  \n",
       "3             -0.054245             1.029067            -1.241701  \n",
       "4             -0.701356            -1.308082             0.137571  \n",
       "\n",
       "[5 rows x 28 columns]"
      ]
     },
     "execution_count": 83,
     "metadata": {},
     "output_type": "execute_result"
    }
   ],
   "source": [
    "df_scal.head()"
   ]
  },
  {
   "cell_type": "markdown",
   "metadata": {},
   "source": [
    "We then reduce the dimensionality of our aggregated dataset, so that we can plot the datapoints and detect clusters."
   ]
  },
  {
   "cell_type": "code",
   "execution_count": 93,
   "metadata": {},
   "outputs": [],
   "source": [
    "clusterable_embedding = umap.UMAP(\n",
    "    n_neighbors=30,\n",
    "    min_dist=0.0,\n",
    "    n_components=2,\n",
    "    random_state=42,\n",
    ").fit_transform(df_scal)"
   ]
  },
  {
   "cell_type": "markdown",
   "metadata": {},
   "source": [
    "Our dimensionality reduced data shows around 5 discernible clusters of user profiles. These clusters could possibly be broken down into local subclusters, but on a global scale most datapoints congregate in these 5 clusters."
   ]
  },
  {
   "cell_type": "code",
   "execution_count": 94,
   "metadata": {},
   "outputs": [
    {
     "data": {
      "text/plain": [
       "<matplotlib.collections.PathCollection at 0x7f9aace3e710>"
      ]
     },
     "execution_count": 94,
     "metadata": {},
     "output_type": "execute_result"
    },
    {
     "data": {
      "image/png": "[encoded data removed]",
      "text/plain": [
       "<Figure size 1080x720 with 1 Axes>"
      ]
     },
     "metadata": {},
     "output_type": "display_data"
    }
   ],
   "source": [
    "plt.figure(figsize=(15,10))\n",
    "plt.scatter(clusterable_embedding[:, 0], clusterable_embedding[:, 1], s=0.1, cmap='Spectral')"
   ]
  },
  {
   "cell_type": "markdown",
   "metadata": {},
   "source": [
    "Now, the big question is whether these clusters, which we have detected by the eye test, can be automatically detected by an unsupervised learning algorithm."
   ]
  },
  {
   "cell_type": "code",
   "execution_count": 95,
   "metadata": {},
   "outputs": [],
   "source": [
    "labels = hdbscan.HDBSCAN(\n",
    "    min_samples=10,\n",
    "    min_cluster_size=170,\n",
    ").fit_predict(clusterable_embedding)"
   ]
  },
  {
   "cell_type": "code",
   "execution_count": 86,
   "metadata": {},
   "outputs": [
    {
     "data": {
      "text/plain": [
       "array([ 6,  4, -1, ...,  0,  4,  6])"
      ]
     },
     "execution_count": 86,
     "metadata": {},
     "output_type": "execute_result"
    }
   ],
   "source": [
    "labels"
   ]
  },
  {
   "cell_type": "markdown",
   "metadata": {},
   "source": [
    "And indeed, the clustering algorithm has been able to detect the visible clusters, making the assignment of future profiles to these existing user profile cluster automatable. Thus our multivariate user segmentation has been successful."
   ]
  },
  {
   "cell_type": "code",
   "execution_count": 96,
   "metadata": {},
   "outputs": [
    {
     "name": "stderr",
     "output_type": "stream",
     "text": [
      "'c' argument looks like a single numeric RGB or RGBA sequence, which should be avoided as value-mapping will have precedence in case its length matches with 'x' & 'y'.  Please use a 2-D array with a single row if you really want to specify the same RGB or RGBA value for all points.\n"
     ]
    },
    {
     "data": {
      "image/png": "[encoded data removed]",
      "text/plain": [
       "<Figure size 1080x720 with 1 Axes>"
      ]
     },
     "metadata": {},
     "output_type": "display_data"
    }
   ],
   "source": [
    "clustered = (labels >= 0)\n",
    "plt.figure(figsize=(15,10))\n",
    "plt.scatter(clusterable_embedding[~clustered, 0],\n",
    "            clusterable_embedding[~clustered, 1],\n",
    "            c=(0.5, 0.5, 0.5),\n",
    "            s=0.1,\n",
    "            alpha=0.5)\n",
    "plt.scatter(clusterable_embedding[clustered, 0],\n",
    "            clusterable_embedding[clustered, 1],\n",
    "            c=labels[clustered],\n",
    "            s=0.5,\n",
    "            cmap='Spectral');"
   ]
  },
  {
   "cell_type": "markdown",
   "metadata": {},
   "source": [
    "# Predicting the average daily volume with a LSTM Neural Network"
   ]
  },
  {
   "cell_type": "markdown",
   "metadata": {},
   "source": [
    "Preparing data for time series prediction w/ LSTM NN"
   ]
  },
  {
   "cell_type": "code",
   "execution_count": 31,
   "metadata": {},
   "outputs": [],
   "source": [
    "volume_data = grp_total['total'].values"
   ]
  },
  {
   "cell_type": "markdown",
   "metadata": {},
   "source": [
    "The test data will contain 82 days worth of data, which represents 25% of all data."
   ]
  },
  {
   "cell_type": "code",
   "execution_count": 32,
   "metadata": {},
   "outputs": [
    {
     "data": {
      "text/plain": [
       "17"
      ]
     },
     "execution_count": 32,
     "metadata": {},
     "output_type": "execute_result"
    }
   ],
   "source": [
    "test_data_size = int(len(volume_data)*0.25)\n",
    "test_data_size"
   ]
  },
  {
   "cell_type": "code",
   "execution_count": 35,
   "metadata": {},
   "outputs": [],
   "source": [
    "train_data = volume_data[:-test_data_size]\n",
    "test_data = volume_data[-test_data_size:]"
   ]
  },
  {
   "cell_type": "markdown",
   "metadata": {},
   "source": [
    "Scaling data for easier handling and improving predictive performance"
   ]
  },
  {
   "cell_type": "code",
   "execution_count": 44,
   "metadata": {},
   "outputs": [],
   "source": [
    "scal_lstm = MinMaxScaler(feature_range=(-1, 1))\n",
    "train_data_normalized = scal_lstm.fit_transform(volume_data .reshape(-1, 1))"
   ]
  },
  {
   "cell_type": "code",
   "execution_count": 45,
   "metadata": {},
   "outputs": [],
   "source": [
    "train_data_normalized = torch.FloatTensor(train_data_normalized).view(-1)"
   ]
  },
  {
   "cell_type": "markdown",
   "metadata": {},
   "source": [
    "The in_out_seqsfunction will accept the raw input data and will return a list of tuples. In each tuple, the first element will contain list of 10 items corresponding to the average volume in 10 days, the second tuple element will contain one item - the sum of revenue on the 10th+1st day."
   ]
  },
  {
   "cell_type": "code",
   "execution_count": 46,
   "metadata": {},
   "outputs": [],
   "source": [
    "train_window = 10"
   ]
  },
  {
   "cell_type": "code",
   "execution_count": 47,
   "metadata": {},
   "outputs": [],
   "source": [
    "def in_out_seqs(input_data, tw):\n",
    "    inout_seq = []\n",
    "    L = len(input_data)\n",
    "    for i in range(L-tw):\n",
    "        train_seq = input_data[i:i+tw]\n",
    "        train_label = input_data[i+tw:i+tw+1]\n",
    "        inout_seq.append((train_seq ,train_label))\n",
    "    return inout_seq"
   ]
  },
  {
   "cell_type": "code",
   "execution_count": 48,
   "metadata": {},
   "outputs": [],
   "source": [
    "train_inout_seq = in_out_seqs(train_data_normalized, train_window)"
   ]
  },
  {
   "cell_type": "markdown",
   "metadata": {},
   "source": [
    "input_size: Corresponds to the number of features in the input. Though our sequence length is 10, for each day we have only 1 value - the average daily volume, therefore the input size will be 1.\n",
    "\n",
    "hidden_layer_size: Specifies the number of hidden layers along with the number of neurons in each layer. We will have one layer of 100 neurons.\n",
    "\n",
    "output_size: The number of items in the output, since we want to predict the average daily volume for 1 day in the future, the output size will be 1."
   ]
  },
  {
   "cell_type": "markdown",
   "metadata": {},
   "source": [
    "in the constructor we create variables hidden_layer_size, lstm, linear, and hidden_cell. LSTM algorithm accepts three inputs: previous hidden state, previous cell state and current input. The hidden_cell variable contains the previous hidden and cell state. The lstm and linear layer variables are used to create the LSTM and linear layers."
   ]
  },
  {
   "cell_type": "markdown",
   "metadata": {},
   "source": [
    "Inside the forward method, the input_seq is passed as a parameter, which is first passed through the lstm layer. The output of the lstm layer is the hidden and cell states at current time step, along with the output. The output from the lstm layer is passed to the linear layer. The predicted number of passengers is stored in the last item of the predictions list, which is returned to the calling function."
   ]
  },
  {
   "cell_type": "code",
   "execution_count": 49,
   "metadata": {},
   "outputs": [],
   "source": [
    "class LSTM(nn.Module):\n",
    "    def __init__(self, input_size=1, hidden_layer_size=500, output_size=1):\n",
    "        super().__init__()\n",
    "        self.hidden_layer_size = hidden_layer_size\n",
    "\n",
    "        self.lstm = nn.LSTM(input_size, hidden_layer_size)\n",
    "\n",
    "        self.linear = nn.Linear(hidden_layer_size, output_size)\n",
    "\n",
    "        self.hidden_cell = (torch.zeros(1,1,self.hidden_layer_size),\n",
    "                            torch.zeros(1,1,self.hidden_layer_size))\n",
    "\n",
    "    def forward(self, input_seq):\n",
    "        lstm_out, self.hidden_cell = self.lstm(input_seq.view(len(input_seq) ,1, -1), self.hidden_cell)\n",
    "        predictions = self.linear(lstm_out.view(len(input_seq), -1))\n",
    "        return predictions[-1]"
   ]
  },
  {
   "cell_type": "markdown",
   "metadata": {},
   "source": [
    "The next step is to create an object of the LSTM() class, define a loss function and the optimizer. Since, we are solving a regression problem, we will use the mean squared error loss. For the optimizer function, we will use the adam optimizer."
   ]
  },
  {
   "cell_type": "code",
   "execution_count": 50,
   "metadata": {},
   "outputs": [],
   "source": [
    "model = LSTM()\n",
    "loss_function = nn.MSELoss()\n",
    "optimizer = torch.optim.Adam(model.parameters(), lr=0.001)"
   ]
  },
  {
   "cell_type": "markdown",
   "metadata": {},
   "source": [
    "Model training is 1000 epochs, with the loss printed out every 50th epoch. As you can see, probably more epochs and some parameter tuning is needed for better convergence, but for this showcase, this will suffice"
   ]
  },
  {
   "cell_type": "code",
   "execution_count": 51,
   "metadata": {},
   "outputs": [
    {
     "name": "stdout",
     "output_type": "stream",
     "text": [
      "epoch:   1 loss: 0.00494204\n",
      "epoch:  51 loss: 0.00974941\n",
      "epoch: 101 loss: 0.01129138\n",
      "epoch: 151 loss: 0.01011067\n",
      "epoch: 201 loss: 0.00484717\n",
      "epoch: 251 loss: 0.00358842\n",
      "epoch: 301 loss: 0.00407839\n",
      "epoch: 351 loss: 0.00000021\n",
      "epoch: 401 loss: 0.00031247\n",
      "epoch: 451 loss: 0.00002696\n",
      "epoch: 501 loss: 0.00303136\n",
      "epoch: 551 loss: 0.00027205\n",
      "epoch: 601 loss: 0.00009444\n",
      "epoch: 651 loss: 0.00034696\n",
      "epoch: 701 loss: 0.00042789\n",
      "epoch: 751 loss: 0.00280167\n",
      "epoch: 801 loss: 0.00000084\n",
      "epoch: 851 loss: 0.00005083\n",
      "epoch: 901 loss: 0.00000000\n",
      "epoch: 951 loss: 0.00000906\n",
      "epoch: 999 loss: 0.0004544989\n"
     ]
    }
   ],
   "source": [
    "epochs = 1000\n",
    "\n",
    "for i in range(epochs):\n",
    "    for seq, labels in train_inout_seq:\n",
    "        optimizer.zero_grad()\n",
    "        model.hidden_cell = (torch.zeros(1, 1, model.hidden_layer_size),\n",
    "                        torch.zeros(1, 1, model.hidden_layer_size))\n",
    "\n",
    "        y_pred = model(seq)\n",
    "\n",
    "        single_loss = loss_function(y_pred, labels)\n",
    "        single_loss.backward()\n",
    "        optimizer.step()\n",
    "\n",
    "    if i%50 == 1:\n",
    "        print(f'epoch: {i:3} loss: {single_loss.item():10.8f}')\n",
    "\n",
    "print(f'epoch: {i:3} loss: {single_loss.item():10.10f}')"
   ]
  },
  {
   "cell_type": "markdown",
   "metadata": {},
   "source": [
    "Since our test set contains the average total volume data for the last 17 days and our model is trained to make predictions using a sequence length of 17. We will first filter the last 17 values from the training set:"
   ]
  },
  {
   "cell_type": "code",
   "execution_count": 52,
   "metadata": {},
   "outputs": [],
   "source": [
    "fut_pred = test_data_size\n",
    "test_inputs = train_data_normalized[-train_window:].tolist()"
   ]
  },
  {
   "cell_type": "code",
   "execution_count": 53,
   "metadata": {},
   "outputs": [],
   "source": [
    "model.eval()\n",
    "\n",
    "for i in range(fut_pred):\n",
    "    seq = torch.FloatTensor(test_inputs[-train_window:])\n",
    "    with torch.no_grad():\n",
    "        model.hidden = (torch.zeros(1, 1, model.hidden_layer_size),\n",
    "                        torch.zeros(1, 1, model.hidden_layer_size))\n",
    "        test_inputs.append(model(seq).item())"
   ]
  },
  {
   "cell_type": "markdown",
   "metadata": {},
   "source": [
    "Since we normalized the dataset for training, the predicted values are also normalized. We need to convert the normalized predicted values into actual predicted values. We can do so by passing the normalized values to the inverse_transform method of the min/max scaler object that we used to normalize our dataset."
   ]
  },
  {
   "cell_type": "code",
   "execution_count": 54,
   "metadata": {},
   "outputs": [],
   "source": [
    "actual_predictions = scal_lstm.inverse_transform(np.array(test_inputs[train_window:] ).reshape(-1, 1))"
   ]
  },
  {
   "cell_type": "code",
   "execution_count": 58,
   "metadata": {},
   "outputs": [
    {
     "data": {
      "text/html": [
       "<div>\n",
       "<style scoped>\n",
       "    .dataframe tbody tr th:only-of-type {\n",
       "        vertical-align: middle;\n",
       "    }\n",
       "\n",
       "    .dataframe tbody tr th {\n",
       "        vertical-align: top;\n",
       "    }\n",
       "\n",
       "    .dataframe thead th {\n",
       "        text-align: right;\n",
       "    }\n",
       "</style>\n",
       "<table border=\"1\" class=\"dataframe\">\n",
       "  <thead>\n",
       "    <tr style=\"text-align: right;\">\n",
       "      <th></th>\n",
       "      <th>executed_at_date</th>\n",
       "      <th>total</th>\n",
       "    </tr>\n",
       "  </thead>\n",
       "  <tbody>\n",
       "    <tr>\n",
       "      <th>0</th>\n",
       "      <td>2018-06-12</td>\n",
       "      <td>2073</td>\n",
       "    </tr>\n",
       "    <tr>\n",
       "      <th>1</th>\n",
       "      <td>2018-06-13</td>\n",
       "      <td>1999</td>\n",
       "    </tr>\n",
       "    <tr>\n",
       "      <th>2</th>\n",
       "      <td>2018-06-14</td>\n",
       "      <td>1874</td>\n",
       "    </tr>\n",
       "    <tr>\n",
       "      <th>3</th>\n",
       "      <td>2018-06-15</td>\n",
       "      <td>1959</td>\n",
       "    </tr>\n",
       "    <tr>\n",
       "      <th>4</th>\n",
       "      <td>2018-06-16</td>\n",
       "      <td>2241</td>\n",
       "    </tr>\n",
       "    <tr>\n",
       "      <th>...</th>\n",
       "      <td>...</td>\n",
       "      <td>...</td>\n",
       "    </tr>\n",
       "    <tr>\n",
       "      <th>64</th>\n",
       "      <td>2018-09-06</td>\n",
       "      <td>2069</td>\n",
       "    </tr>\n",
       "    <tr>\n",
       "      <th>65</th>\n",
       "      <td>2018-09-07</td>\n",
       "      <td>1986</td>\n",
       "    </tr>\n",
       "    <tr>\n",
       "      <th>66</th>\n",
       "      <td>2018-09-10</td>\n",
       "      <td>1929</td>\n",
       "    </tr>\n",
       "    <tr>\n",
       "      <th>67</th>\n",
       "      <td>2018-09-11</td>\n",
       "      <td>2123</td>\n",
       "    </tr>\n",
       "    <tr>\n",
       "      <th>68</th>\n",
       "      <td>2018-09-12</td>\n",
       "      <td>1936</td>\n",
       "    </tr>\n",
       "  </tbody>\n",
       "</table>\n",
       "<p>69 rows × 2 columns</p>\n",
       "</div>"
      ],
      "text/plain": [
       "   executed_at_date  total\n",
       "0        2018-06-12   2073\n",
       "1        2018-06-13   1999\n",
       "2        2018-06-14   1874\n",
       "3        2018-06-15   1959\n",
       "4        2018-06-16   2241\n",
       "..              ...    ...\n",
       "64       2018-09-06   2069\n",
       "65       2018-09-07   1986\n",
       "66       2018-09-10   1929\n",
       "67       2018-09-11   2123\n",
       "68       2018-09-12   1936\n",
       "\n",
       "[69 rows x 2 columns]"
      ]
     },
     "execution_count": 58,
     "metadata": {},
     "output_type": "execute_result"
    }
   ],
   "source": [
    "grp_total"
   ]
  },
  {
   "cell_type": "code",
   "execution_count": 59,
   "metadata": {},
   "outputs": [],
   "source": [
    "x = np.arange(51, 68, 1)"
   ]
  },
  {
   "cell_type": "code",
   "execution_count": 60,
   "metadata": {},
   "outputs": [],
   "source": [
    "grp_total.reset_index(inplace=True)"
   ]
  },
  {
   "cell_type": "markdown",
   "metadata": {},
   "source": [
    "The predictions made by our LSTM are depicted by the orange line. You can see that our algorithm is not too accurate but still it has been able to capture the trend for total daily revenue in the last 82 days along with occasional fluctuations. You can try with a greater number of epochs and with a higher number of neurons in the LSTM layer to see if you can get better performance."
   ]
  },
  {
   "cell_type": "code",
   "execution_count": 61,
   "metadata": {},
   "outputs": [
    {
     "data": {
      "image/png": "[encoded data removed]",
      "text/plain": [
       "<Figure size 1080x720 with 1 Axes>"
      ]
     },
     "metadata": {},
     "output_type": "display_data"
    }
   ],
   "source": [
    "plt.figure(figsize=(15,10))\n",
    "plt.title('Day vs Average Total')\n",
    "plt.ylabel('Average Total Volume per Day')\n",
    "plt.grid(True)\n",
    "plt.autoscale(axis='x', tight=True)\n",
    "\n",
    "plt.plot(grp_total['total'])\n",
    "plt.plot(x,actual_predictions)\n",
    "plt.show()"
   ]
  },
  {
   "cell_type": "markdown",
   "metadata": {},
   "source": [
    "Again, the predictions are not very accurate but the algorithm was able to capture the daily channel revenues movements in the future days with occasional fluctuations."
   ]
  },
  {
   "cell_type": "code",
   "execution_count": 63,
   "metadata": {},
   "outputs": [
    {
     "data": {
      "image/png": "[encoded data removed]",
      "text/plain": [
       "<Figure size 1080x720 with 1 Axes>"
      ]
     },
     "metadata": {},
     "output_type": "display_data"
    }
   ],
   "source": [
    "plt.figure(figsize=(15,10))\n",
    "plt.title('Day vs Revenue')\n",
    "plt.ylabel('Total Revenue per Day')\n",
    "plt.grid(True)\n",
    "plt.autoscale(axis='x', tight=True)\n",
    "\n",
    "\n",
    "plt.plot(grp_total['total'][-test_data_size:])\n",
    "plt.plot(x,actual_predictions)\n",
    "plt.show()"
   ]
  }
 ],
 "metadata": {
  "kernelspec": {
   "display_name": "Python 3",
   "language": "python",
   "name": "python3"
  },
  "language_info": {
   "codemirror_mode": {
    "name": "ipython",
    "version": 3
   },
   "file_extension": ".py",
   "mimetype": "text/x-python",
   "name": "python",
   "nbconvert_exporter": "python",
   "pygments_lexer": "ipython3",
   "version": "3.7.6"
  }
 },
 "nbformat": 4,
 "nbformat_minor": 4
}
